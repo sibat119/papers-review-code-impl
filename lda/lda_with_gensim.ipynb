{
  "nbformat": 4,
  "nbformat_minor": 0,
  "metadata": {
    "colab": {
      "name": "lda_with_gensim.ipynb",
      "provenance": [],
      "authorship_tag": "ABX9TyOR3/p1WAcXcI72ERVTd9Qa",
      "include_colab_link": true
    },
    "kernelspec": {
      "name": "python3",
      "display_name": "Python 3"
    },
    "language_info": {
      "name": "python"
    }
  },
  "cells": [
    {
      "cell_type": "markdown",
      "metadata": {
        "id": "view-in-github",
        "colab_type": "text"
      },
      "source": [
        "<a href=\"https://colab.research.google.com/github/sibat119/papers-review-code-impl/blob/main/lda/lda_with_gensim.ipynb\" target=\"_parent\"><img src=\"https://colab.research.google.com/assets/colab-badge.svg\" alt=\"Open In Colab\"/></a>"
      ]
    },
    {
      "cell_type": "code",
      "metadata": {
        "id": "gLBQKyCb0kLJ"
      },
      "source": [
        ""
      ],
      "execution_count": null,
      "outputs": []
    },
    {
      "cell_type": "markdown",
      "metadata": {
        "id": "rABruUU7K1KG"
      },
      "source": [
        "## **Importing the Required Libraries**\n"
      ]
    },
    {
      "cell_type": "code",
      "metadata": {
        "colab": {
          "base_uri": "https://localhost:8080/",
          "height": 945
        },
        "id": "o1l1E2TZLBwj",
        "outputId": "6d685ce4-9ccf-4854-fdf0-d8d96ca2ef52"
      },
      "source": [
        "!pip install pyLDAvis"
      ],
      "execution_count": 1,
      "outputs": [
        {
          "output_type": "stream",
          "name": "stdout",
          "text": [
            "Collecting pyLDAvis\n",
            "  Downloading pyLDAvis-3.3.1.tar.gz (1.7 MB)\n",
            "\u001b[?25l\r\u001b[K     |▏                               | 10 kB 21.4 MB/s eta 0:00:01\r\u001b[K     |▍                               | 20 kB 28.5 MB/s eta 0:00:01\r\u001b[K     |▋                               | 30 kB 31.1 MB/s eta 0:00:01\r\u001b[K     |▉                               | 40 kB 22.4 MB/s eta 0:00:01\r\u001b[K     |█                               | 51 kB 24.2 MB/s eta 0:00:01\r\u001b[K     |█▏                              | 61 kB 25.8 MB/s eta 0:00:01\r\u001b[K     |█▍                              | 71 kB 26.9 MB/s eta 0:00:01\r\u001b[K     |█▋                              | 81 kB 28.9 MB/s eta 0:00:01\r\u001b[K     |█▉                              | 92 kB 28.3 MB/s eta 0:00:01\r\u001b[K     |██                              | 102 kB 30.1 MB/s eta 0:00:01\r\u001b[K     |██▏                             | 112 kB 30.1 MB/s eta 0:00:01\r\u001b[K     |██▍                             | 122 kB 30.1 MB/s eta 0:00:01\r\u001b[K     |██▋                             | 133 kB 30.1 MB/s eta 0:00:01\r\u001b[K     |██▊                             | 143 kB 30.1 MB/s eta 0:00:01\r\u001b[K     |███                             | 153 kB 30.1 MB/s eta 0:00:01\r\u001b[K     |███▏                            | 163 kB 30.1 MB/s eta 0:00:01\r\u001b[K     |███▍                            | 174 kB 30.1 MB/s eta 0:00:01\r\u001b[K     |███▋                            | 184 kB 30.1 MB/s eta 0:00:01\r\u001b[K     |███▊                            | 194 kB 30.1 MB/s eta 0:00:01\r\u001b[K     |████                            | 204 kB 30.1 MB/s eta 0:00:01\r\u001b[K     |████▏                           | 215 kB 30.1 MB/s eta 0:00:01\r\u001b[K     |████▍                           | 225 kB 30.1 MB/s eta 0:00:01\r\u001b[K     |████▋                           | 235 kB 30.1 MB/s eta 0:00:01\r\u001b[K     |████▊                           | 245 kB 30.1 MB/s eta 0:00:01\r\u001b[K     |█████                           | 256 kB 30.1 MB/s eta 0:00:01\r\u001b[K     |█████▏                          | 266 kB 30.1 MB/s eta 0:00:01\r\u001b[K     |█████▍                          | 276 kB 30.1 MB/s eta 0:00:01\r\u001b[K     |█████▌                          | 286 kB 30.1 MB/s eta 0:00:01\r\u001b[K     |█████▊                          | 296 kB 30.1 MB/s eta 0:00:01\r\u001b[K     |██████                          | 307 kB 30.1 MB/s eta 0:00:01\r\u001b[K     |██████▏                         | 317 kB 30.1 MB/s eta 0:00:01\r\u001b[K     |██████▍                         | 327 kB 30.1 MB/s eta 0:00:01\r\u001b[K     |██████▌                         | 337 kB 30.1 MB/s eta 0:00:01\r\u001b[K     |██████▊                         | 348 kB 30.1 MB/s eta 0:00:01\r\u001b[K     |███████                         | 358 kB 30.1 MB/s eta 0:00:01\r\u001b[K     |███████▏                        | 368 kB 30.1 MB/s eta 0:00:01\r\u001b[K     |███████▎                        | 378 kB 30.1 MB/s eta 0:00:01\r\u001b[K     |███████▌                        | 389 kB 30.1 MB/s eta 0:00:01\r\u001b[K     |███████▊                        | 399 kB 30.1 MB/s eta 0:00:01\r\u001b[K     |████████                        | 409 kB 30.1 MB/s eta 0:00:01\r\u001b[K     |████████▏                       | 419 kB 30.1 MB/s eta 0:00:01\r\u001b[K     |████████▎                       | 430 kB 30.1 MB/s eta 0:00:01\r\u001b[K     |████████▌                       | 440 kB 30.1 MB/s eta 0:00:01\r\u001b[K     |████████▊                       | 450 kB 30.1 MB/s eta 0:00:01\r\u001b[K     |█████████                       | 460 kB 30.1 MB/s eta 0:00:01\r\u001b[K     |█████████▏                      | 471 kB 30.1 MB/s eta 0:00:01\r\u001b[K     |█████████▎                      | 481 kB 30.1 MB/s eta 0:00:01\r\u001b[K     |█████████▌                      | 491 kB 30.1 MB/s eta 0:00:01\r\u001b[K     |█████████▊                      | 501 kB 30.1 MB/s eta 0:00:01\r\u001b[K     |██████████                      | 512 kB 30.1 MB/s eta 0:00:01\r\u001b[K     |██████████                      | 522 kB 30.1 MB/s eta 0:00:01\r\u001b[K     |██████████▎                     | 532 kB 30.1 MB/s eta 0:00:01\r\u001b[K     |██████████▌                     | 542 kB 30.1 MB/s eta 0:00:01\r\u001b[K     |██████████▊                     | 552 kB 30.1 MB/s eta 0:00:01\r\u001b[K     |███████████                     | 563 kB 30.1 MB/s eta 0:00:01\r\u001b[K     |███████████                     | 573 kB 30.1 MB/s eta 0:00:01\r\u001b[K     |███████████▎                    | 583 kB 30.1 MB/s eta 0:00:01\r\u001b[K     |███████████▌                    | 593 kB 30.1 MB/s eta 0:00:01\r\u001b[K     |███████████▊                    | 604 kB 30.1 MB/s eta 0:00:01\r\u001b[K     |███████████▉                    | 614 kB 30.1 MB/s eta 0:00:01\r\u001b[K     |████████████                    | 624 kB 30.1 MB/s eta 0:00:01\r\u001b[K     |████████████▎                   | 634 kB 30.1 MB/s eta 0:00:01\r\u001b[K     |████████████▌                   | 645 kB 30.1 MB/s eta 0:00:01\r\u001b[K     |████████████▊                   | 655 kB 30.1 MB/s eta 0:00:01\r\u001b[K     |████████████▉                   | 665 kB 30.1 MB/s eta 0:00:01\r\u001b[K     |█████████████                   | 675 kB 30.1 MB/s eta 0:00:01\r\u001b[K     |█████████████▎                  | 686 kB 30.1 MB/s eta 0:00:01\r\u001b[K     |█████████████▌                  | 696 kB 30.1 MB/s eta 0:00:01\r\u001b[K     |█████████████▊                  | 706 kB 30.1 MB/s eta 0:00:01\r\u001b[K     |█████████████▉                  | 716 kB 30.1 MB/s eta 0:00:01\r\u001b[K     |██████████████                  | 727 kB 30.1 MB/s eta 0:00:01\r\u001b[K     |██████████████▎                 | 737 kB 30.1 MB/s eta 0:00:01\r\u001b[K     |██████████████▌                 | 747 kB 30.1 MB/s eta 0:00:01\r\u001b[K     |██████████████▋                 | 757 kB 30.1 MB/s eta 0:00:01\r\u001b[K     |██████████████▉                 | 768 kB 30.1 MB/s eta 0:00:01\r\u001b[K     |███████████████                 | 778 kB 30.1 MB/s eta 0:00:01\r\u001b[K     |███████████████▎                | 788 kB 30.1 MB/s eta 0:00:01\r\u001b[K     |███████████████▌                | 798 kB 30.1 MB/s eta 0:00:01\r\u001b[K     |███████████████▋                | 808 kB 30.1 MB/s eta 0:00:01\r\u001b[K     |███████████████▉                | 819 kB 30.1 MB/s eta 0:00:01\r\u001b[K     |████████████████                | 829 kB 30.1 MB/s eta 0:00:01\r\u001b[K     |████████████████▎               | 839 kB 30.1 MB/s eta 0:00:01\r\u001b[K     |████████████████▍               | 849 kB 30.1 MB/s eta 0:00:01\r\u001b[K     |████████████████▋               | 860 kB 30.1 MB/s eta 0:00:01\r\u001b[K     |████████████████▉               | 870 kB 30.1 MB/s eta 0:00:01\r\u001b[K     |█████████████████               | 880 kB 30.1 MB/s eta 0:00:01\r\u001b[K     |█████████████████▎              | 890 kB 30.1 MB/s eta 0:00:01\r\u001b[K     |█████████████████▍              | 901 kB 30.1 MB/s eta 0:00:01\r\u001b[K     |█████████████████▋              | 911 kB 30.1 MB/s eta 0:00:01\r\u001b[K     |█████████████████▉              | 921 kB 30.1 MB/s eta 0:00:01\r\u001b[K     |██████████████████              | 931 kB 30.1 MB/s eta 0:00:01\r\u001b[K     |██████████████████▎             | 942 kB 30.1 MB/s eta 0:00:01\r\u001b[K     |██████████████████▍             | 952 kB 30.1 MB/s eta 0:00:01\r\u001b[K     |██████████████████▋             | 962 kB 30.1 MB/s eta 0:00:01\r\u001b[K     |██████████████████▉             | 972 kB 30.1 MB/s eta 0:00:01\r\u001b[K     |███████████████████             | 983 kB 30.1 MB/s eta 0:00:01\r\u001b[K     |███████████████████▏            | 993 kB 30.1 MB/s eta 0:00:01\r\u001b[K     |███████████████████▍            | 1.0 MB 30.1 MB/s eta 0:00:01\r\u001b[K     |███████████████████▋            | 1.0 MB 30.1 MB/s eta 0:00:01\r\u001b[K     |███████████████████▉            | 1.0 MB 30.1 MB/s eta 0:00:01\r\u001b[K     |████████████████████            | 1.0 MB 30.1 MB/s eta 0:00:01\r\u001b[K     |████████████████████▏           | 1.0 MB 30.1 MB/s eta 0:00:01\r\u001b[K     |████████████████████▍           | 1.1 MB 30.1 MB/s eta 0:00:01\r\u001b[K     |████████████████████▋           | 1.1 MB 30.1 MB/s eta 0:00:01\r\u001b[K     |████████████████████▉           | 1.1 MB 30.1 MB/s eta 0:00:01\r\u001b[K     |█████████████████████           | 1.1 MB 30.1 MB/s eta 0:00:01\r\u001b[K     |█████████████████████▏          | 1.1 MB 30.1 MB/s eta 0:00:01\r\u001b[K     |█████████████████████▍          | 1.1 MB 30.1 MB/s eta 0:00:01\r\u001b[K     |█████████████████████▋          | 1.1 MB 30.1 MB/s eta 0:00:01\r\u001b[K     |█████████████████████▉          | 1.1 MB 30.1 MB/s eta 0:00:01\r\u001b[K     |██████████████████████          | 1.1 MB 30.1 MB/s eta 0:00:01\r\u001b[K     |██████████████████████▏         | 1.1 MB 30.1 MB/s eta 0:00:01\r\u001b[K     |██████████████████████▍         | 1.2 MB 30.1 MB/s eta 0:00:01\r\u001b[K     |██████████████████████▋         | 1.2 MB 30.1 MB/s eta 0:00:01\r\u001b[K     |██████████████████████▉         | 1.2 MB 30.1 MB/s eta 0:00:01\r\u001b[K     |███████████████████████         | 1.2 MB 30.1 MB/s eta 0:00:01\r\u001b[K     |███████████████████████▏        | 1.2 MB 30.1 MB/s eta 0:00:01\r\u001b[K     |███████████████████████▍        | 1.2 MB 30.1 MB/s eta 0:00:01\r\u001b[K     |███████████████████████▋        | 1.2 MB 30.1 MB/s eta 0:00:01\r\u001b[K     |███████████████████████▊        | 1.2 MB 30.1 MB/s eta 0:00:01\r\u001b[K     |████████████████████████        | 1.2 MB 30.1 MB/s eta 0:00:01\r\u001b[K     |████████████████████████▏       | 1.2 MB 30.1 MB/s eta 0:00:01\r\u001b[K     |████████████████████████▍       | 1.3 MB 30.1 MB/s eta 0:00:01\r\u001b[K     |████████████████████████▋       | 1.3 MB 30.1 MB/s eta 0:00:01\r\u001b[K     |████████████████████████▊       | 1.3 MB 30.1 MB/s eta 0:00:01\r\u001b[K     |█████████████████████████       | 1.3 MB 30.1 MB/s eta 0:00:01\r\u001b[K     |█████████████████████████▏      | 1.3 MB 30.1 MB/s eta 0:00:01\r\u001b[K     |█████████████████████████▍      | 1.3 MB 30.1 MB/s eta 0:00:01\r\u001b[K     |█████████████████████████▌      | 1.3 MB 30.1 MB/s eta 0:00:01\r\u001b[K     |█████████████████████████▊      | 1.3 MB 30.1 MB/s eta 0:00:01\r\u001b[K     |██████████████████████████      | 1.3 MB 30.1 MB/s eta 0:00:01\r\u001b[K     |██████████████████████████▏     | 1.4 MB 30.1 MB/s eta 0:00:01\r\u001b[K     |██████████████████████████▍     | 1.4 MB 30.1 MB/s eta 0:00:01\r\u001b[K     |██████████████████████████▌     | 1.4 MB 30.1 MB/s eta 0:00:01\r\u001b[K     |██████████████████████████▊     | 1.4 MB 30.1 MB/s eta 0:00:01\r\u001b[K     |███████████████████████████     | 1.4 MB 30.1 MB/s eta 0:00:01\r\u001b[K     |███████████████████████████▏    | 1.4 MB 30.1 MB/s eta 0:00:01\r\u001b[K     |███████████████████████████▍    | 1.4 MB 30.1 MB/s eta 0:00:01\r\u001b[K     |███████████████████████████▌    | 1.4 MB 30.1 MB/s eta 0:00:01\r\u001b[K     |███████████████████████████▊    | 1.4 MB 30.1 MB/s eta 0:00:01\r\u001b[K     |████████████████████████████    | 1.4 MB 30.1 MB/s eta 0:00:01\r\u001b[K     |████████████████████████████▏   | 1.5 MB 30.1 MB/s eta 0:00:01\r\u001b[K     |████████████████████████████▎   | 1.5 MB 30.1 MB/s eta 0:00:01\r\u001b[K     |████████████████████████████▌   | 1.5 MB 30.1 MB/s eta 0:00:01\r\u001b[K     |████████████████████████████▊   | 1.5 MB 30.1 MB/s eta 0:00:01\r\u001b[K     |█████████████████████████████   | 1.5 MB 30.1 MB/s eta 0:00:01\r\u001b[K     |█████████████████████████████▏  | 1.5 MB 30.1 MB/s eta 0:00:01\r\u001b[K     |█████████████████████████████▎  | 1.5 MB 30.1 MB/s eta 0:00:01\r\u001b[K     |█████████████████████████████▌  | 1.5 MB 30.1 MB/s eta 0:00:01\r\u001b[K     |█████████████████████████████▊  | 1.5 MB 30.1 MB/s eta 0:00:01\r\u001b[K     |██████████████████████████████  | 1.5 MB 30.1 MB/s eta 0:00:01\r\u001b[K     |██████████████████████████████▏ | 1.6 MB 30.1 MB/s eta 0:00:01\r\u001b[K     |██████████████████████████████▎ | 1.6 MB 30.1 MB/s eta 0:00:01\r\u001b[K     |██████████████████████████████▌ | 1.6 MB 30.1 MB/s eta 0:00:01\r\u001b[K     |██████████████████████████████▊ | 1.6 MB 30.1 MB/s eta 0:00:01\r\u001b[K     |███████████████████████████████ | 1.6 MB 30.1 MB/s eta 0:00:01\r\u001b[K     |███████████████████████████████ | 1.6 MB 30.1 MB/s eta 0:00:01\r\u001b[K     |███████████████████████████████▎| 1.6 MB 30.1 MB/s eta 0:00:01\r\u001b[K     |███████████████████████████████▌| 1.6 MB 30.1 MB/s eta 0:00:01\r\u001b[K     |███████████████████████████████▊| 1.6 MB 30.1 MB/s eta 0:00:01\r\u001b[K     |████████████████████████████████| 1.6 MB 30.1 MB/s eta 0:00:01\r\u001b[K     |████████████████████████████████| 1.7 MB 30.1 MB/s \n",
            "\u001b[?25h  Installing build dependencies ... \u001b[?25l\u001b[?25hdone\n",
            "  Getting requirements to build wheel ... \u001b[?25l\u001b[?25hdone\n",
            "  Installing backend dependencies ... \u001b[?25l\u001b[?25hdone\n",
            "    Preparing wheel metadata ... \u001b[?25l\u001b[?25hdone\n",
            "Requirement already satisfied: joblib in /usr/local/lib/python3.7/dist-packages (from pyLDAvis) (1.0.1)\n",
            "Requirement already satisfied: jinja2 in /usr/local/lib/python3.7/dist-packages (from pyLDAvis) (2.11.3)\n",
            "Requirement already satisfied: scipy in /usr/local/lib/python3.7/dist-packages (from pyLDAvis) (1.4.1)\n",
            "Requirement already satisfied: setuptools in /usr/local/lib/python3.7/dist-packages (from pyLDAvis) (57.4.0)\n",
            "Requirement already satisfied: future in /usr/local/lib/python3.7/dist-packages (from pyLDAvis) (0.16.0)\n",
            "Collecting pandas>=1.2.0\n",
            "  Downloading pandas-1.3.2-cp37-cp37m-manylinux_2_17_x86_64.manylinux2014_x86_64.whl (11.3 MB)\n",
            "\u001b[K     |████████████████████████████████| 11.3 MB 66.2 MB/s \n",
            "\u001b[?25hCollecting numpy>=1.20.0\n",
            "  Downloading numpy-1.21.2-cp37-cp37m-manylinux_2_12_x86_64.manylinux2010_x86_64.whl (15.7 MB)\n",
            "\u001b[K     |████████████████████████████████| 15.7 MB 187 kB/s \n",
            "\u001b[?25hRequirement already satisfied: numexpr in /usr/local/lib/python3.7/dist-packages (from pyLDAvis) (2.7.3)\n",
            "Requirement already satisfied: sklearn in /usr/local/lib/python3.7/dist-packages (from pyLDAvis) (0.0)\n",
            "Requirement already satisfied: scikit-learn in /usr/local/lib/python3.7/dist-packages (from pyLDAvis) (0.22.2.post1)\n",
            "Collecting funcy\n",
            "  Downloading funcy-1.16-py2.py3-none-any.whl (32 kB)\n",
            "Requirement already satisfied: gensim in /usr/local/lib/python3.7/dist-packages (from pyLDAvis) (3.6.0)\n",
            "Requirement already satisfied: python-dateutil>=2.7.3 in /usr/local/lib/python3.7/dist-packages (from pandas>=1.2.0->pyLDAvis) (2.8.2)\n",
            "Requirement already satisfied: pytz>=2017.3 in /usr/local/lib/python3.7/dist-packages (from pandas>=1.2.0->pyLDAvis) (2018.9)\n",
            "Requirement already satisfied: six>=1.5 in /usr/local/lib/python3.7/dist-packages (from python-dateutil>=2.7.3->pandas>=1.2.0->pyLDAvis) (1.15.0)\n",
            "Requirement already satisfied: smart-open>=1.2.1 in /usr/local/lib/python3.7/dist-packages (from gensim->pyLDAvis) (5.1.0)\n",
            "Requirement already satisfied: MarkupSafe>=0.23 in /usr/local/lib/python3.7/dist-packages (from jinja2->pyLDAvis) (2.0.1)\n",
            "Building wheels for collected packages: pyLDAvis\n",
            "  Building wheel for pyLDAvis (PEP 517) ... \u001b[?25l\u001b[?25hdone\n",
            "  Created wheel for pyLDAvis: filename=pyLDAvis-3.3.1-py2.py3-none-any.whl size=136897 sha256=a28d12add5e0be11865a43b6f55f85f256017dd9f3e10beee7237c236dcb58ea\n",
            "  Stored in directory: /root/.cache/pip/wheels/c9/21/f6/17bcf2667e8a68532ba2fbf6d5c72fdf4c7f7d9abfa4852d2f\n",
            "Successfully built pyLDAvis\n",
            "Installing collected packages: numpy, pandas, funcy, pyLDAvis\n",
            "  Attempting uninstall: numpy\n",
            "    Found existing installation: numpy 1.19.5\n",
            "    Uninstalling numpy-1.19.5:\n",
            "      Successfully uninstalled numpy-1.19.5\n",
            "  Attempting uninstall: pandas\n",
            "    Found existing installation: pandas 1.1.5\n",
            "    Uninstalling pandas-1.1.5:\n",
            "      Successfully uninstalled pandas-1.1.5\n",
            "\u001b[31mERROR: pip's dependency resolver does not currently take into account all the packages that are installed. This behaviour is the source of the following dependency conflicts.\n",
            "tensorflow 2.6.0 requires numpy~=1.19.2, but you have numpy 1.21.2 which is incompatible.\n",
            "google-colab 1.0.0 requires pandas~=1.1.0; python_version >= \"3.0\", but you have pandas 1.3.2 which is incompatible.\n",
            "datascience 0.10.6 requires folium==0.2.1, but you have folium 0.8.3 which is incompatible.\n",
            "albumentations 0.1.12 requires imgaug<0.2.7,>=0.2.5, but you have imgaug 0.2.9 which is incompatible.\u001b[0m\n",
            "Successfully installed funcy-1.16 numpy-1.21.2 pandas-1.3.2 pyLDAvis-3.3.1\n"
          ]
        },
        {
          "output_type": "display_data",
          "data": {
            "application/vnd.colab-display-data+json": {
              "pip_warning": {
                "packages": [
                  "numpy",
                  "pandas"
                ]
              }
            }
          },
          "metadata": {}
        }
      ]
    },
    {
      "cell_type": "code",
      "metadata": {
        "colab": {
          "base_uri": "https://localhost:8080/"
        },
        "id": "USGx8hG7LTSe",
        "outputId": "bb0728ee-8597-43d5-d068-4dde60d28324"
      },
      "source": [
        "!pip install nltk\n",
        "import nltk\n",
        "nltk.download(\"stopwords\")\n",
        "nltk.download('wordnet')\n",
        "from nltk.corpus import stopwords\n",
        "from nltk.stem import WordNetLemmatizer"
      ],
      "execution_count": 1,
      "outputs": [
        {
          "output_type": "stream",
          "name": "stdout",
          "text": [
            "Requirement already satisfied: nltk in /usr/local/lib/python3.7/dist-packages (3.2.5)\n",
            "Requirement already satisfied: six in /usr/local/lib/python3.7/dist-packages (from nltk) (1.15.0)\n",
            "[nltk_data] Downloading package stopwords to /root/nltk_data...\n",
            "[nltk_data]   Package stopwords is already up-to-date!\n",
            "[nltk_data] Downloading package wordnet to /root/nltk_data...\n",
            "[nltk_data]   Package wordnet is already up-to-date!\n"
          ]
        }
      ]
    },
    {
      "cell_type": "code",
      "metadata": {
        "id": "pU0EgmSTK4z9"
      },
      "source": [
        "import numpy as np\n",
        "import pandas as pd\n",
        "import json\n",
        "import glob\n",
        "\n",
        "#Gensim\n",
        "import gensim\n",
        "import gensim.corpora as corpora\n",
        "from gensim.utils import simple_preprocess\n",
        "from gensim.models import CoherenceModel\n",
        "\n",
        "#vis\n",
        "import pyLDAvis\n",
        "import pyLDAvis.gensim_models as gensimvis\n"
      ],
      "execution_count": 3,
      "outputs": []
    },
    {
      "cell_type": "markdown",
      "metadata": {
        "id": "ATruuaF8L53h"
      },
      "source": [
        "## **Load Data**"
      ]
    },
    {
      "cell_type": "code",
      "metadata": {
        "colab": {
          "base_uri": "https://localhost:8080/",
          "height": 626
        },
        "id": "sf8gMx7eK9PM",
        "outputId": "a5c71d68-f82e-46ec-ba65-e30ae39a6acf"
      },
      "source": [
        "data = pd.read_csv(\"/content/Review.csv\")\n",
        "data.head()"
      ],
      "execution_count": 4,
      "outputs": [
        {
          "output_type": "execute_result",
          "data": {
            "text/html": [
              "<div>\n",
              "<style scoped>\n",
              "    .dataframe tbody tr th:only-of-type {\n",
              "        vertical-align: middle;\n",
              "    }\n",
              "\n",
              "    .dataframe tbody tr th {\n",
              "        vertical-align: top;\n",
              "    }\n",
              "\n",
              "    .dataframe thead th {\n",
              "        text-align: right;\n",
              "    }\n",
              "</style>\n",
              "<table border=\"1\" class=\"dataframe\">\n",
              "  <thead>\n",
              "    <tr style=\"text-align: right;\">\n",
              "      <th></th>\n",
              "      <th>Unnamed: 0</th>\n",
              "      <th>Id</th>\n",
              "      <th>ProductId</th>\n",
              "      <th>UserId</th>\n",
              "      <th>ProfileName</th>\n",
              "      <th>HelpfulnessNumerator</th>\n",
              "      <th>HelpfulnessDenominator</th>\n",
              "      <th>Score</th>\n",
              "      <th>Time</th>\n",
              "      <th>Summary</th>\n",
              "      <th>Text</th>\n",
              "      <th>Num_words_text</th>\n",
              "    </tr>\n",
              "  </thead>\n",
              "  <tbody>\n",
              "    <tr>\n",
              "      <th>0</th>\n",
              "      <td>0</td>\n",
              "      <td>226241</td>\n",
              "      <td>B002T0NWKE</td>\n",
              "      <td>A1G25CG7UWQ3XO</td>\n",
              "      <td>&amp;#10003;Onoñda&amp;#660;gegá&amp;#660;</td>\n",
              "      <td>1</td>\n",
              "      <td>5</td>\n",
              "      <td>1</td>\n",
              "      <td>1309305600</td>\n",
              "      <td>Misleading discription-bad taste</td>\n",
              "      <td>they advertise that they contain aspartame die...</td>\n",
              "      <td>43</td>\n",
              "    </tr>\n",
              "    <tr>\n",
              "      <th>1</th>\n",
              "      <td>1</td>\n",
              "      <td>194272</td>\n",
              "      <td>B0009Y8AGI</td>\n",
              "      <td>A34Y9SS1F0H485</td>\n",
              "      <td>Bluemoon</td>\n",
              "      <td>0</td>\n",
              "      <td>6</td>\n",
              "      <td>1</td>\n",
              "      <td>1263600000</td>\n",
              "      <td>Yuck!</td>\n",
              "      <td>taste disgusting having struggle just keep dow...</td>\n",
              "      <td>27</td>\n",
              "    </tr>\n",
              "    <tr>\n",
              "      <th>2</th>\n",
              "      <td>2</td>\n",
              "      <td>359016</td>\n",
              "      <td>B003CIBPN8</td>\n",
              "      <td>ANDTRFIVWED40</td>\n",
              "      <td>R. Hauff</td>\n",
              "      <td>6</td>\n",
              "      <td>8</td>\n",
              "      <td>1</td>\n",
              "      <td>1275782400</td>\n",
              "      <td>If you liked it in tetrapak box, don't buy now</td>\n",
              "      <td>bought this zico water hoping have good taste ...</td>\n",
              "      <td>53</td>\n",
              "    </tr>\n",
              "    <tr>\n",
              "      <th>3</th>\n",
              "      <td>3</td>\n",
              "      <td>402750</td>\n",
              "      <td>B000EQX6HO</td>\n",
              "      <td>A2W95LYEAIRDAC</td>\n",
              "      <td>I. B. Lehman \"IBL\"</td>\n",
              "      <td>1</td>\n",
              "      <td>1</td>\n",
              "      <td>1</td>\n",
              "      <td>1316044800</td>\n",
              "      <td>Great product...just not in small packages!</td>\n",
              "      <td>love terra chipswhen they bags from storei ord...</td>\n",
              "      <td>49</td>\n",
              "    </tr>\n",
              "    <tr>\n",
              "      <th>4</th>\n",
              "      <td>4</td>\n",
              "      <td>429211</td>\n",
              "      <td>B0006VM0LU</td>\n",
              "      <td>A32T7H92YWC0A2</td>\n",
              "      <td>Molly F</td>\n",
              "      <td>0</td>\n",
              "      <td>0</td>\n",
              "      <td>1</td>\n",
              "      <td>1317340800</td>\n",
              "      <td>Unfortunately unsalvageable</td>\n",
              "      <td>wanted desperately like this sauce smells tast...</td>\n",
              "      <td>35</td>\n",
              "    </tr>\n",
              "  </tbody>\n",
              "</table>\n",
              "</div>"
            ],
            "text/plain": [
              "   Unnamed: 0  ...  Num_words_text\n",
              "0           0  ...              43\n",
              "1           1  ...              27\n",
              "2           2  ...              53\n",
              "3           3  ...              49\n",
              "4           4  ...              35\n",
              "\n",
              "[5 rows x 12 columns]"
            ]
          },
          "metadata": {},
          "execution_count": 4
        }
      ]
    },
    {
      "cell_type": "code",
      "metadata": {
        "id": "YU1p51dAMM-H"
      },
      "source": [
        "stopwords = stopwords.words(\"english\")"
      ],
      "execution_count": 5,
      "outputs": []
    },
    {
      "cell_type": "code",
      "metadata": {
        "id": "43fAki1DQSv2",
        "colab": {
          "base_uri": "https://localhost:8080/"
        },
        "outputId": "1ea790ee-8519-4fce-e1e4-ca03d6a89d2a"
      },
      "source": [
        "print(len(stopwords), stopwords)"
      ],
      "execution_count": 6,
      "outputs": [
        {
          "output_type": "stream",
          "name": "stdout",
          "text": [
            "179 ['i', 'me', 'my', 'myself', 'we', 'our', 'ours', 'ourselves', 'you', \"you're\", \"you've\", \"you'll\", \"you'd\", 'your', 'yours', 'yourself', 'yourselves', 'he', 'him', 'his', 'himself', 'she', \"she's\", 'her', 'hers', 'herself', 'it', \"it's\", 'its', 'itself', 'they', 'them', 'their', 'theirs', 'themselves', 'what', 'which', 'who', 'whom', 'this', 'that', \"that'll\", 'these', 'those', 'am', 'is', 'are', 'was', 'were', 'be', 'been', 'being', 'have', 'has', 'had', 'having', 'do', 'does', 'did', 'doing', 'a', 'an', 'the', 'and', 'but', 'if', 'or', 'because', 'as', 'until', 'while', 'of', 'at', 'by', 'for', 'with', 'about', 'against', 'between', 'into', 'through', 'during', 'before', 'after', 'above', 'below', 'to', 'from', 'up', 'down', 'in', 'out', 'on', 'off', 'over', 'under', 'again', 'further', 'then', 'once', 'here', 'there', 'when', 'where', 'why', 'how', 'all', 'any', 'both', 'each', 'few', 'more', 'most', 'other', 'some', 'such', 'no', 'nor', 'not', 'only', 'own', 'same', 'so', 'than', 'too', 'very', 's', 't', 'can', 'will', 'just', 'don', \"don't\", 'should', \"should've\", 'now', 'd', 'll', 'm', 'o', 're', 've', 'y', 'ain', 'aren', \"aren't\", 'couldn', \"couldn't\", 'didn', \"didn't\", 'doesn', \"doesn't\", 'hadn', \"hadn't\", 'hasn', \"hasn't\", 'haven', \"haven't\", 'isn', \"isn't\", 'ma', 'mightn', \"mightn't\", 'mustn', \"mustn't\", 'needn', \"needn't\", 'shan', \"shan't\", 'shouldn', \"shouldn't\", 'wasn', \"wasn't\", 'weren', \"weren't\", 'won', \"won't\", 'wouldn', \"wouldn't\"]\n"
          ]
        }
      ]
    },
    {
      "cell_type": "code",
      "metadata": {
        "id": "DYq6qeAxQbfk",
        "colab": {
          "base_uri": "https://localhost:8080/"
        },
        "outputId": "b12b5783-7c22-4c97-d5c9-cc9ac1769533"
      },
      "source": [
        "reviews = pd.DataFrame(data, columns= ['Text'])\n",
        "print (reviews)"
      ],
      "execution_count": 7,
      "outputs": [
        {
          "output_type": "stream",
          "name": "stdout",
          "text": [
            "                                                   Text\n",
            "0     they advertise that they contain aspartame die...\n",
            "1     taste disgusting having struggle just keep dow...\n",
            "2     bought this zico water hoping have good taste ...\n",
            "3     love terra chipswhen they bags from storei ord...\n",
            "4     wanted desperately like this sauce smells tast...\n",
            "...                                                 ...\n",
            "9995  rescued cats female urinary infectionsshe very...\n",
            "9996  love zipfizz quick energy like shakey caffeine...\n",
            "9997  much except that this tastes same campbells to...\n",
            "9998  after having craving mint several days went lo...\n",
            "9999  office hooked these ordered assorted case from...\n",
            "\n",
            "[10000 rows x 1 columns]\n"
          ]
        }
      ]
    },
    {
      "cell_type": "code",
      "metadata": {
        "id": "3dEpuYSZRXKl",
        "colab": {
          "base_uri": "https://localhost:8080/"
        },
        "outputId": "3d41d371-582c-4fb6-f77f-36012afc6905"
      },
      "source": [
        "w_tokenizer = nltk.tokenize.WhitespaceTokenizer()\n",
        "lemmatizer = nltk.stem.WordNetLemmatizer()\n",
        "\n",
        "def lemmatize_text(text):\n",
        "    return [lemmatizer.lemmatize(w) for w in w_tokenizer.tokenize(text)]\n",
        "\n",
        "# df = pd.DataFrame(['this was cheesy', 'she likes these books', 'wow this is great'], columns=['text'])\n",
        "reviews['text_lemmatized'] = reviews.Text.apply(lemmatize_text)\n",
        "print(reviews)"
      ],
      "execution_count": 8,
      "outputs": [
        {
          "output_type": "stream",
          "name": "stdout",
          "text": [
            "                                                   Text                                    text_lemmatized\n",
            "0     they advertise that they contain aspartame die...  [they, advertise, that, they, contain, asparta...\n",
            "1     taste disgusting having struggle just keep dow...  [taste, disgusting, having, struggle, just, ke...\n",
            "2     bought this zico water hoping have good taste ...  [bought, this, zico, water, hoping, have, good...\n",
            "3     love terra chipswhen they bags from storei ord...  [love, terra, chipswhen, they, bag, from, stor...\n",
            "4     wanted desperately like this sauce smells tast...  [wanted, desperately, like, this, sauce, smell...\n",
            "...                                                 ...                                                ...\n",
            "9995  rescued cats female urinary infectionsshe very...  [rescued, cat, female, urinary, infectionsshe,...\n",
            "9996  love zipfizz quick energy like shakey caffeine...  [love, zipfizz, quick, energy, like, shakey, c...\n",
            "9997  much except that this tastes same campbells to...  [much, except, that, this, taste, same, campbe...\n",
            "9998  after having craving mint several days went lo...  [after, having, craving, mint, several, day, w...\n",
            "9999  office hooked these ordered assorted case from...  [office, hooked, these, ordered, assorted, cas...\n",
            "\n",
            "[10000 rows x 2 columns]\n"
          ]
        }
      ]
    },
    {
      "cell_type": "code",
      "metadata": {
        "id": "PYcQDTxcRwrm"
      },
      "source": [
        "def gen_words(texts):\n",
        "    final = []\n",
        "    for text in texts:\n",
        "        new = gensim.utils.simple_preprocess(text, deacc=True)\n",
        "        if len(new) > 0:\n",
        "          final.append(new[0])\n",
        "    return(final)\n",
        "\n",
        "data_words = gen_words(reviews)\n",
        "reviews['words'] = reviews.text_lemmatized.apply(gen_words)"
      ],
      "execution_count": 9,
      "outputs": []
    },
    {
      "cell_type": "code",
      "metadata": {
        "id": "-2YMqLBoUuKt",
        "colab": {
          "base_uri": "https://localhost:8080/"
        },
        "outputId": "1ab30f82-d36e-43a9-d1bf-0e2c1196ac05"
      },
      "source": [
        "print(reviews['words'][0][:10])"
      ],
      "execution_count": 10,
      "outputs": [
        {
          "output_type": "stream",
          "name": "stdout",
          "text": [
            "['they', 'advertise', 'that', 'they', 'contain', 'aspartame', 'diet', 'flavor', 'boldly', 'state']\n"
          ]
        }
      ]
    },
    {
      "cell_type": "code",
      "metadata": {
        "id": "J7n1Xy-IVE16"
      },
      "source": [
        "id2word = corpora.Dictionary(reviews['words'])\n",
        "\n",
        "corpus = []\n",
        "for words in reviews['words']:\n",
        "  new = id2word.doc2bow(words)\n",
        "  corpus.append(new)\n"
      ],
      "execution_count": 11,
      "outputs": []
    },
    {
      "cell_type": "code",
      "metadata": {
        "id": "_TrfnXmJWJw4",
        "colab": {
          "base_uri": "https://localhost:8080/"
        },
        "outputId": "7b0add82-79d5-4823-a8e7-da0a5599865b"
      },
      "source": [
        "print(corpus[0][:20])\n",
        "word = id2word[[0][:1][0]]\n",
        "print(word)"
      ],
      "execution_count": 12,
      "outputs": [
        {
          "output_type": "stream",
          "name": "stdout",
          "text": [
            "[(0, 1), (1, 1), (2, 2), (3, 1), (4, 1), (5, 1), (6, 1), (7, 1), (8, 2), (9, 1), (10, 3), (11, 1), (12, 2), (13, 1), (14, 3), (15, 1), (16, 1), (17, 1), (18, 1), (19, 2)]\n",
            "advertise\n"
          ]
        }
      ]
    },
    {
      "cell_type": "code",
      "metadata": {
        "id": "abY2H-AdsfxT"
      },
      "source": [
        "\n",
        "lda_model = gensim.models.ldamodel.LdaModel(corpus=corpus,\n",
        "                                           id2word=id2word,\n",
        "                                           num_topics=10,\n",
        "                                           random_state=100,\n",
        "                                           update_every=1,\n",
        "                                           chunksize=100,\n",
        "                                           passes=10,\n",
        "                                           alpha=0.05,\n",
        "                                            eta=0.05)"
      ],
      "execution_count": null,
      "outputs": []
    },
    {
      "cell_type": "code",
      "metadata": {
        "id": "9i7eqCxTsrWW"
      },
      "source": [
        ""
      ],
      "execution_count": 13,
      "outputs": []
    },
    {
      "cell_type": "markdown",
      "metadata": {
        "id": "wAojMTvRszj-"
      },
      "source": [
        "## **Vizualizing the Data**"
      ]
    },
    {
      "cell_type": "code",
      "metadata": {
        "id": "f971Af8Cswa9"
      },
      "source": [
        "pyLDAvis.enable_notebook()"
      ],
      "execution_count": 14,
      "outputs": []
    },
    {
      "cell_type": "code",
      "metadata": {
        "id": "4QKl0Q6atb8T",
        "colab": {
          "base_uri": "https://localhost:8080/"
        },
        "outputId": "6e43b473-8ff8-4fd9-95e9-796ed6d413d0"
      },
      "source": [
        "# lda_viz = gensimvis.prepare(lda_model, corpus, id2word, mds=\"mmds\", R=30)\n",
        "vis_data = gensimvis.prepare(lda_model, corpus, id2word)"
      ],
      "execution_count": 15,
      "outputs": [
        {
          "output_type": "stream",
          "name": "stderr",
          "text": [
            "/usr/local/lib/python3.7/dist-packages/pyLDAvis/_prepare.py:247: FutureWarning: In a future version of pandas all arguments of DataFrame.drop except for the argument 'labels' will be keyword-only\n",
            "  by='saliency', ascending=False).head(R).drop('saliency', 1)\n"
          ]
        }
      ]
    },
    {
      "cell_type": "code",
      "metadata": {
        "id": "Vrd4jq_Atu4j",
        "colab": {
          "base_uri": "https://localhost:8080/",
          "height": 881
        },
        "outputId": "5521d2eb-3440-4c9c-8003-abedea86be55"
      },
      "source": [
        "pyLDAvis.display(vis_data)"
      ],
      "execution_count": 16,
      "outputs": [
        {
          "output_type": "execute_result",
          "data": {
            "text/html": [
              "\n",
              "<link rel=\"stylesheet\" type=\"text/css\" href=\"https://cdn.jsdelivr.net/gh/bmabey/pyLDAvis@3.3.1/pyLDAvis/js/ldavis.v1.0.0.css\">\n",
              "\n",
              "\n",
              "<div id=\"ldavis_el4501400179160382242170128201\"></div>\n",
              "<script type=\"text/javascript\">\n",
              "\n",
              "var ldavis_el4501400179160382242170128201_data = {\"mdsDat\": {\"x\": [0.23783357242017059, 0.20896074251282648, 0.186688636234658, 0.06382796668855997, 0.09381584968234899, 0.07636836410412116, -0.13435673677919555, -0.21889285374494233, -0.2703231360302314, -0.2439224050883157], \"y\": [-0.047631515750422924, -0.06784956846443413, 0.09303282224344492, 0.2560714085502297, -0.04895188662863832, -0.11261914143252023, -0.13977342504417287, 0.18576854666385934, 0.07287209385743645, -0.1909193339947817], \"topics\": [1, 2, 3, 4, 5, 6, 7, 8, 9, 10], \"cluster\": [1, 1, 1, 1, 1, 1, 1, 1, 1, 1], \"Freq\": [26.23017498018016, 19.664510807925524, 13.224580995112944, 8.187504529811045, 7.640033291200808, 7.222909830435826, 5.337607787261144, 4.484150207749642, 4.265396951387103, 3.743130618935803]}, \"tinfo\": {\"Term\": [\"coffee\", \"these\", \"they\", \"them\", \"this\", \"food\", \"taste\", \"flavor\", \"amazon\", \"product\", \"like\", \"love\", \"chip\", \"price\", \"best\", \"from\", \"find\", \"treat\", \"highly\", \"were\", \"store\", \"time\", \"free\", \"good\", \"that\", \"sugar\", \"without\", \"have\", \"than\", \"size\", \"delicious\", \"local\", \"always\", \"anyone\", \"seem\", \"bean\", \"crunchy\", \"soft\", \"star\", \"cheaper\", \"difference\", \"powder\", \"else\", \"roast\", \"subscribe\", \"surprised\", \"pretzel\", \"hour\", \"anywhere\", \"creamy\", \"lower\", \"break\", \"truly\", \"compared\", \"instant\", \"delivery\", \"shape\", \"smaller\", \"pouch\", \"inside\", \"expensive\", \"candy\", \"excellent\", \"deal\", \"definitely\", \"le\", \"favorite\", \"stuff\", \"than\", \"buying\", \"store\", \"more\", \"being\", \"bought\", \"grocery\", \"this\", \"have\", \"found\", \"time\", \"price\", \"that\", \"better\", \"would\", \"good\", \"find\", \"much\", \"come\", \"very\", \"been\", \"only\", \"great\", \"what\", \"when\", \"will\", \"product\", \"with\", \"just\", \"there\", \"from\", \"like\", \"other\", \"make\", \"sugar\", \"sauce\", \"butter\", \"texture\", \"protein\", \"where\", \"bar\", \"dark\", \"honey\", \"almond\", \"cheese\", \"tea\", \"coconut\", \"smooth\", \"soup\", \"juice\", \"carry\", \"plain\", \"youll\", \"hint\", \"noodle\", \"care\", \"olive\", \"strawberry\", \"version\", \"adding\", \"mixed\", \"locally\", \"cocoa\", \"aftertaste\", \"drink\", \"tasting\", \"milk\", \"black\", \"cream\", \"taste\", \"kind\", \"chocolate\", \"flavor\", \"sweet\", \"like\", \"water\", \"tried\", \"really\", \"real\", \"this\", \"with\", \"calorie\", \"best\", \"good\", \"that\", \"just\", \"make\", \"other\", \"great\", \"have\", \"very\", \"dont\", \"your\", \"love\", \"some\", \"little\", \"also\", \"food\", \"treat\", \"snack\", \"healthy\", \"dog\", \"cat\", \"chicken\", \"home\", \"kid\", \"amazing\", \"baby\", \"daughter\", \"weight\", \"online\", \"nut\", \"healthier\", \"formula\", \"easily\", \"chew\", \"stomach\", \"meat\", \"eats\", \"feed\", \"along\", \"hair\", \"puppy\", \"berry\", \"chewy\", \"ball\", \"coat\", \"them\", \"love\", \"recommended\", \"these\", \"they\", \"piece\", \"eating\", \"their\", \"small\", \"problem\", \"month\", \"have\", \"that\", \"your\", \"feel\", \"great\", \"about\", \"with\", \"when\", \"year\", \"little\", \"just\", \"like\", \"will\", \"because\", \"even\", \"this\", \"chip\", \"cooky\", \"tasty\", \"salt\", \"potato\", \"breakfast\", \"pasta\", \"stash\", \"cracker\", \"cinnamon\", \"gram\", \"pepper\", \"lunch\", \"child\", \"finally\", \"during\", \"vinegar\", \"mint\", \"count\", \"cookie\", \"exactly\", \"party\", \"beat\", \"baked\", \"tomato\", \"lime\", \"roll\", \"lemon\", \"licorice\", \"amazoncom\", \"arrived\", \"these\", \"they\", \"them\", \"were\", \"perfect\", \"nice\", \"bag\", \"yummy\", \"quite\", \"flavor\", \"fresh\", \"ordered\", \"very\", \"pack\", \"great\", \"with\", \"have\", \"love\", \"each\", \"green\", \"iced\", \"spice\", \"salad\", \"night\", \"wife\", \"teeth\", \"machine\", \"yogurt\", \"drinker\", \"apple\", \"crazy\", \"agree\", \"mild\", \"filling\", \"coming\", \"shelf\", \"consistency\", \"blue\", \"birthday\", \"homemade\", \"check\", \"sweetened\", \"notice\", \"drank\", \"brewing\", \"admit\", \"outside\", \"mountain\", \"full\", \"take\", \"needed\", \"get\", \"house\", \"having\", \"friend\", \"nice\", \"long\", \"work\", \"first\", \"keep\", \"after\", \"husband\", \"time\", \"using\", \"going\", \"down\", \"make\", \"with\", \"over\", \"have\", \"about\", \"used\", \"before\", \"this\", \"when\", \"that\", \"tried\", \"issue\", \"thanks\", \"gift\", \"bulk\", \"bold\", \"sold\", \"delivered\", \"difficult\", \"individual\", \"mustard\", \"stock\", \"walmart\", \"stronger\", \"convenience\", \"across\", \"sent\", \"customer\", \"mother\", \"travel\", \"prime\", \"equal\", \"future\", \"including\", \"gotten\", \"present\", \"choose\", \"beautiful\", \"fair\", \"everyday\", \"various\", \"company\", \"amazon\", \"shipped\", \"thank\", \"able\", \"here\", \"order\", \"item\", \"without\", \"received\", \"through\", \"ordering\", \"product\", \"purchased\", \"from\", \"price\", \"find\", \"this\", \"sometimes\", \"purchase\", \"store\", \"with\", \"quality\", \"day\", \"have\", \"will\", \"that\", \"free\", \"been\", \"year\", \"when\", \"coffee\", \"morning\", \"blend\", \"vanilla\", \"flavored\", \"energy\", \"keurig\", \"cooking\", \"aroma\", \"kcup\", \"caffeine\", \"brew\", \"starbucks\", \"pill\", \"leaf\", \"vitamin\", \"note\", \"pour\", \"french\", \"serve\", \"refreshing\", \"yourself\", \"feeling\", \"medium\", \"skin\", \"pocket\", \"hold\", \"wellness\", \"pricey\", \"add\", \"cup\", \"strong\", \"best\", \"rich\", \"flavor\", \"while\", \"this\", \"drinking\", \"house\", \"enjoy\", \"every\", \"diet\", \"rice\", \"health\", \"corn\", \"value\", \"wheat\", \"syrup\", \"alternative\", \"popcorn\", \"supermarket\", \"orange\", \"cherry\", \"soda\", \"training\", \"cake\", \"artificial\", \"mine\", \"convenient\", \"arent\", \"dried\", \"plastic\", \"taking\", \"call\", \"label\", \"body\", \"creamer\", \"enjoys\", \"extremely\", \"decaf\", \"mango\", \"high\", \"looking\", \"organic\", \"making\", \"while\", \"product\", \"need\", \"highly\", \"cereal\", \"added\", \"peanut\", \"several\", \"white\", \"grain\", \"cost\", \"fast\", \"oatmeal\", \"longer\", \"jerky\", \"side\", \"become\", \"flour\", \"recently\", \"canned\", \"beef\", \"bowl\", \"discovered\", \"eaten\", \"crunch\", \"offer\", \"nutrition\", \"tuna\", \"bone\", \"pressure\", \"simple\", \"effect\", \"summer\", \"fiber\", \"decided\", \"shipping\", \"high\", \"while\", \"cook\", \"best\", \"size\", \"fruit\", \"gluten\", \"bread\", \"container\", \"pound\", \"allergy\", \"combination\", \"dinner\", \"vegetable\", \"sandwich\", \"live\", \"egg\", \"espresso\", \"guess\", \"ready\", \"cytomax\", \"bit\", \"room\", \"turn\", \"shot\", \"staple\", \"dairy\", \"slice\", \"pizza\", \"higher\", \"beverage\", \"warm\", \"calm\", \"peppermint\", \"free\", \"easy\", \"without\", \"area\", \"three\", \"seems\", \"serving\", \"ingredient\", \"liquid\"], \"Freq\": [2691.0, 4534.0, 4929.0, 3977.0, 12496.0, 2106.0, 3470.0, 3119.0, 1632.0, 2867.0, 4732.0, 3358.0, 954.0, 1471.0, 1759.0, 2396.0, 1763.0, 1010.0, 623.0, 1179.0, 1437.0, 1918.0, 842.0, 3553.0, 6934.0, 1064.0, 739.0, 6597.0, 2079.0, 483.0, 1027.8009950704306, 697.1874760188226, 704.2085945927796, 314.4905419984599, 301.0537177195879, 300.92587588048775, 300.2583574842297, 287.6782618913452, 277.8552695189938, 253.94158403793344, 239.7036667058064, 219.58256785311755, 217.10278287356215, 204.83337871155496, 198.8189020115885, 198.61901776091773, 188.6594341773903, 187.8851215734535, 173.62832689096604, 173.52172377721715, 171.42277535037715, 169.78050046728828, 165.038409049965, 159.39842185432818, 153.14892691972304, 150.23452609575298, 154.62144214523252, 146.75678036645084, 144.99389791446504, 144.50614430797305, 510.42919440126394, 372.38263915424983, 470.67717992520124, 339.7358245812982, 560.783318500995, 559.8080842793395, 912.6101747103094, 697.2212723452812, 1636.8189875955525, 538.1288055222823, 1117.4521117000104, 1595.1167230692413, 401.91948191554974, 730.7054059207695, 456.46552435886844, 5746.858386870226, 3240.6614962899507, 738.1430000653676, 1209.4812011932104, 976.6652421991611, 3126.808169644301, 817.7380989246545, 1080.9061073849384, 1790.620445687603, 1061.1284316234046, 952.2072939066253, 600.1235528572657, 1569.2219668169537, 966.0442415755658, 1007.2958520169175, 1590.7712471034163, 760.48717650193, 1228.7771018583444, 1025.0571046301932, 1208.4441617348, 1802.320308041123, 1203.4863116210581, 836.9537947374982, 1026.57646516766, 1059.178399966219, 849.4609470474284, 876.2973049897099, 1064.107353068412, 529.9275152944383, 521.0878026488447, 500.76004918935666, 440.9835400366518, 423.26064517753304, 402.24536033146757, 342.7657090332101, 341.17381006785456, 334.3033056881743, 331.3896166828681, 307.57320527199704, 281.38665864804784, 280.3045856745668, 257.7956586407537, 250.1059452850086, 246.40630438833094, 225.69444695005848, 196.75233085085893, 192.06631552102397, 187.82420552472666, 181.68736266633078, 174.90465699024097, 171.9424433401299, 166.13629869897554, 165.6130777766815, 165.46340042966318, 164.22890767879522, 159.82923073169542, 156.24528355795405, 938.9253122384503, 388.64785845079615, 639.643558663216, 415.76194005036825, 329.72776527721606, 2903.2179968410805, 386.05577057094916, 936.4095621591609, 2238.167335289636, 779.5252718594344, 3116.985777845461, 616.9897740014278, 992.6800582787473, 1081.5320188578992, 463.87530216355646, 4273.14104616731, 2583.4622404973006, 460.2127659404474, 977.3486445646053, 1482.336989268925, 2143.29119662208, 1223.190745069351, 960.0263901300754, 818.8972395023316, 1005.4512699825516, 1264.732097929168, 910.9712692419646, 687.1843668063235, 638.8083453547018, 824.541734245978, 671.3599705345855, 629.9313029106586, 585.9047760235717, 2106.4222761028445, 1010.5103061825465, 714.6080139500092, 541.9916452336007, 506.2889037101386, 440.74139589087326, 393.4625963508502, 331.6481961613459, 304.56744790332533, 271.7585970123044, 256.48119757501934, 220.95977669187425, 209.93213997742907, 186.49250396736605, 178.89565911946923, 173.86694986264246, 172.51892297984818, 171.5262427109681, 169.4766202884622, 152.4062055349465, 149.79472861274252, 148.3821921018045, 145.87102372876026, 143.49656842086478, 139.72554228768234, 133.59654954609582, 116.99871908785308, 114.6122482251529, 110.14879305798611, 107.10902973642996, 2221.366624353063, 1715.2113369155975, 265.81410428464307, 1930.262846470012, 2054.766346206348, 254.63360989361058, 344.4366002597108, 475.1950152014453, 324.7883466320354, 267.08483522725055, 315.03733164766214, 1086.0633440370993, 1042.4890240008422, 460.4469608246273, 262.3514223373588, 631.8289067697624, 473.63445201018163, 798.1277087281137, 420.27963552518514, 346.04550094063546, 360.87602634195474, 399.4892848325706, 429.398244195509, 356.2156151733505, 330.4175721221757, 324.8230857618487, 345.37609827914616, 953.6364881373307, 468.32372852900505, 458.8033664044385, 416.1733174889968, 353.7470233289397, 337.26493368090155, 279.6319849758284, 214.24739631065543, 207.02555155913083, 186.68395144996086, 184.39995415018768, 179.61681705657458, 176.09984057740158, 174.3811717640973, 169.83756475240028, 167.04313234174353, 159.54845677688598, 159.16128890773126, 154.35643987357307, 142.25237386648158, 135.78416693192264, 134.89580942107247, 133.23897873670685, 129.73647972495382, 122.91267585519599, 120.93849124550837, 119.722690744342, 119.58396610067092, 118.29708200137776, 114.58360734756991, 247.04735562314266, 2594.964233429551, 2427.9651214507808, 1755.9485901516352, 671.8442673313041, 405.53576183971114, 446.41559657140203, 331.48843270150223, 166.24643705398736, 207.10249772205157, 467.3667670804279, 223.473283850702, 208.7991819173785, 271.39627440407827, 197.59355396496164, 238.70323872972278, 228.1145264254938, 190.52650478327297, 186.6037502001923, 496.8809921551857, 415.32606026944717, 246.36723541521252, 226.2445638187152, 206.995701992917, 169.4392635857867, 156.04796624394987, 146.9931488726779, 144.33606553932543, 142.02381797622135, 141.47402724346782, 125.14555894590715, 123.05576734905101, 113.67480791938854, 109.93768763084233, 108.33539559757985, 101.85135720044903, 100.76352788556974, 100.43096905751982, 98.3681883237778, 97.3971887444699, 88.34325397720312, 88.27272517066136, 82.45793915109623, 80.17792651265059, 79.96665019713522, 79.59838963950553, 79.45454108943257, 76.85344347500461, 76.58314401056484, 293.4730515892501, 442.8103171858685, 128.3315844741606, 134.4056413837942, 265.0894132401411, 249.60817322508686, 237.38841740503707, 398.5247468153342, 295.6865270176459, 360.23185090404394, 356.5316568587424, 291.74400648889826, 388.52543183907267, 200.40975861442888, 441.1094199970339, 238.8961276847692, 196.0352392063786, 186.70143945558863, 373.26490643641824, 530.5052468372329, 258.34126155799436, 480.4134143344629, 303.40856463273917, 234.06852231794065, 211.7098092555091, 393.30930457501285, 251.2852162516187, 272.399616694465, 216.76922937159566, 244.38363739467496, 226.67357759201, 219.47872813726298, 207.53141867855845, 148.6751130414316, 148.65341821479055, 138.72332170139495, 137.02342754408716, 122.85079717724265, 119.62891245489553, 117.28322510040203, 110.91208746963906, 109.53792391980967, 108.35808166889598, 107.59860487389588, 104.71838736071771, 104.43579833677809, 103.28697983830638, 84.81400033329494, 84.66240716834585, 84.45726852516943, 83.50192187467425, 82.77768601775217, 78.36926116142234, 74.21652855504684, 72.9671215343008, 71.94929889481962, 70.02455582564075, 69.67428886537084, 69.61464688527036, 274.2078448343089, 973.3762391617327, 135.61878148489208, 205.52233941392365, 209.96400561585523, 379.9418748276728, 522.0929941728809, 241.9514714242153, 444.13273236277024, 180.66212781389476, 236.0257918797636, 194.53259419887405, 977.660659215474, 227.10019741236064, 757.1317090268022, 494.1748343644993, 530.9867004023729, 1224.88840869978, 162.03679590017444, 211.38703890511405, 319.39743203561744, 489.74914986784796, 204.16846496218994, 178.2251507938681, 334.9452107139996, 256.3471540766082, 301.86909459581466, 205.28704902103925, 228.53954316655745, 195.7718904982645, 197.88652719730447, 2691.0065349844513, 430.83646811477854, 391.55489088028, 358.39691255822714, 286.70438882815813, 212.17923702538243, 199.15967597562724, 198.84912191967913, 180.23194400229426, 179.52829775067147, 174.50517033370588, 158.97928961934338, 157.60069492400117, 155.8167867442914, 146.9929940875199, 146.44141399802368, 145.91997605054902, 142.1075672633355, 138.93236535830542, 136.2009073354507, 131.38304201721294, 124.06781190590102, 110.33648300267353, 109.6002503512906, 104.2885671980241, 103.75634118571239, 103.05806119085203, 97.87386829917696, 91.39524095020371, 89.91524288949809, 187.765701865697, 330.4180941789603, 381.01956229338543, 144.41855740384355, 413.61129497951066, 215.27844473526784, 513.0692089472193, 141.77450381566769, 148.91300298221836, 153.38401701709023, 141.501080256821, 475.6808417684315, 325.91663342969383, 288.5560105738479, 239.89641113060972, 220.2568385752153, 205.52030349328922, 202.53996981062545, 200.09100853109237, 191.12805441982755, 183.47016885151965, 182.6246959019257, 169.05828149356495, 154.11169890487525, 153.65383939559766, 150.1713853932638, 145.84688394057977, 145.6166474559842, 139.50893563537966, 134.55888388482424, 133.11995019158272, 132.52220524043406, 131.74112607635212, 123.8261973917643, 121.3327792923452, 118.46580443343029, 115.65810844562522, 111.42992232453973, 105.95906401593255, 105.79281063029117, 105.61825950942438, 320.74228148206066, 222.23980128459726, 216.38966460604075, 166.67056851386226, 185.73308912035185, 174.67232940407672, 132.1478271078226, 622.8971509252442, 385.171417621897, 369.07400792341116, 364.4177585125096, 348.26320711498903, 282.7242530724373, 245.5064865558115, 242.58403846108416, 214.21318489034778, 206.80110036235803, 197.95505750448993, 195.30796563317196, 193.76640049902068, 171.767965055254, 166.95208112778246, 155.3123276885499, 154.76404793681127, 151.25002877205858, 145.25846948031145, 142.1359899251658, 139.16963789915715, 121.34136565118145, 120.54919489998917, 120.4087289552365, 114.82560496191911, 114.20313688868669, 96.16702902344814, 95.16658761098235, 93.1132331512939, 91.22843604961882, 211.81582603805538, 201.34072980764444, 245.9363633090531, 234.43806132243412, 236.68184076050923, 137.87501795098342, 173.9902941600681, 483.29075348697774, 428.7744060667275, 414.3210490574696, 310.41450069177796, 227.0570112437647, 185.66921106332865, 152.56875685296095, 151.9560451903186, 139.99309930038518, 138.50747609354394, 137.4576541855104, 129.6149916517804, 122.64548998540805, 103.10534839502988, 97.05972148477584, 90.81951343181031, 88.4881860704694, 88.11977214666416, 88.04146909211742, 82.93282977786248, 79.5529738723741, 73.17478103373466, 71.8425461089692, 69.99012178750591, 69.64642981316106, 68.41347225367268, 67.94760414018876, 65.10403845350973, 63.54513761204042, 63.187191365228564, 396.6094123480116, 328.1782771068108, 295.30399016682946, 109.51326522900223, 156.08401081635117, 136.67181875450697, 119.6027267819062, 110.67201019201721, 76.4508172176474], \"Total\": [2691.0, 4534.0, 4929.0, 3977.0, 12496.0, 2106.0, 3470.0, 3119.0, 1632.0, 2867.0, 4732.0, 3358.0, 954.0, 1471.0, 1759.0, 2396.0, 1763.0, 1010.0, 623.0, 1179.0, 1437.0, 1918.0, 842.0, 3553.0, 6934.0, 1064.0, 739.0, 6597.0, 2079.0, 483.0, 1028.2560318288695, 697.6425127759354, 704.8657251906213, 314.94557875526226, 301.50875447639027, 301.3809126393548, 300.7133942545246, 288.13329865230827, 278.3103062724359, 254.39662079137557, 240.15870346761042, 220.0376046149997, 217.55781964225275, 205.28841547042202, 199.27393877286192, 199.0740545185206, 189.1144709383534, 188.34015832689562, 174.08336366641797, 173.97676054108078, 171.87781210815444, 170.2355372284258, 165.49344583023378, 159.8534586115747, 153.60396367316517, 150.6895628491951, 155.09877952197445, 147.2118171232532, 145.44893467931067, 144.96118106141518, 516.1174563875709, 377.16239607033094, 488.5702581729939, 349.13550608580795, 592.0484537904193, 591.8483436672833, 1012.9245564925695, 762.9079421875473, 2079.0732354964603, 615.9107093050536, 1437.2513259598288, 2270.200892797054, 457.26751721048544, 931.1426204661142, 544.2294943540372, 12496.844244375405, 6597.540635177384, 1023.0626588809561, 1918.5697928550285, 1471.2418587878615, 6934.156900058653, 1188.8945685253566, 1748.5472743511218, 3553.298493113264, 1763.733942350469, 1543.3189516914697, 798.1524957263834, 3157.6279815727953, 1579.7886507619155, 1747.412278936252, 3497.5008744980337, 1153.910044315585, 2474.0093664870665, 2036.9335057008927, 2867.984779492646, 6547.828051644222, 3018.543974868765, 1416.7435808557882, 2396.08255533018, 4732.280400702901, 1890.2253349836806, 2284.3869553268646, 1064.563613260725, 530.3837754867512, 521.5440628411576, 501.2163093816695, 441.43980023232484, 423.7169053974815, 402.7016205237804, 343.2219692309478, 341.6300702601674, 334.7595658804871, 331.8458768789853, 308.02946546430985, 281.84291884036065, 280.7608458723045, 258.2519188330665, 250.5622054773214, 246.86256459534212, 226.15070714653203, 197.20859104317174, 192.52257571333678, 188.28046571703948, 182.14362286406853, 175.36091718671452, 172.3987035324427, 166.59255889128835, 166.06933796899432, 165.919660621976, 164.68516789583623, 160.28549092400823, 156.70154375026686, 953.9957799571015, 402.2024657121701, 677.9872401678863, 434.3774421499012, 342.0802330840326, 3470.2446313138953, 409.995393740628, 1096.2237826865298, 3119.4957136889025, 949.409418833785, 4732.280400702901, 766.0883740833092, 1519.5803091573555, 1827.224062105357, 581.0475011719224, 12496.844244375405, 6547.828051644222, 578.1926358632687, 1759.4378150747177, 3553.298493113264, 6934.156900058653, 3018.543974868765, 2284.3869553268646, 1890.2253349836806, 3497.5008744980337, 6597.540635177384, 3157.6279815727953, 1570.5013660917712, 1508.2205080609904, 3358.736485937981, 1857.759396856507, 1667.7289389545542, 1577.7680339811873, 2106.8867446563413, 1010.9747747360436, 715.072482507667, 542.4561137870978, 506.75337226363564, 441.2058644443703, 393.9270649043473, 332.11266472026784, 305.0319164568224, 272.2230655819617, 256.9456661285164, 221.42424524537128, 210.3966085309261, 186.9569725409779, 179.36012767296626, 174.3314184369911, 172.9833915333452, 171.99071127379685, 169.9410888419592, 152.87067409386847, 150.25919716623955, 148.84666065946226, 146.3354922822573, 143.96103701120057, 140.19001084117937, 134.06101809959284, 117.46318765423665, 115.07671678364653, 110.6132616114832, 107.57349828992704, 3977.725099274016, 3358.736485937981, 328.6035981459569, 4534.434654860316, 4929.011016460342, 333.110931418586, 537.2010744958277, 875.5743360589547, 517.7948762314996, 386.4067243622824, 594.5448750242322, 6597.540635177384, 6934.156900058653, 1508.2205080609904, 438.7907627756037, 3497.5008744980337, 1803.877827126963, 6547.828051644222, 2474.0093664870665, 1230.3088974691575, 1667.7289389545542, 3018.543974868765, 4732.280400702901, 2036.9335057008927, 1409.4550716408642, 1425.8899175890635, 12496.844244375405, 954.092114856793, 468.7793552484674, 459.2589931239009, 416.6289442084592, 354.20265004840206, 337.72056040469914, 280.0876116952908, 214.70302305208938, 207.48117827859318, 187.1395781694232, 184.85558086965003, 180.07244377603692, 176.55546729686392, 174.83679850849603, 170.29319151258713, 167.49875908425255, 160.00408349634833, 159.6169156396651, 154.81206660646606, 142.70800058594392, 136.23979365138499, 135.3514361624055, 133.6946054935335, 130.19210644822056, 123.36830257465836, 121.39411797427819, 120.1783174748515, 120.0395928201333, 118.75270872084013, 115.03923407612776, 273.23860924815176, 4534.434654860316, 4929.011016460342, 3977.725099274016, 1179.8925007103026, 648.4138169559083, 845.3470314035087, 558.1616383599597, 211.34556212987601, 378.02622853846907, 3119.4957136889025, 671.5046612101672, 584.5246055985971, 3157.6279815727953, 688.2848894469689, 3497.5008744980337, 6547.828051644222, 6597.540635177384, 3358.736485937981, 497.3422635697105, 415.78733168397196, 246.8285068401588, 226.70583523324, 207.4569734074418, 169.90053500031152, 156.50923766280985, 147.45442029056292, 144.79733695927519, 142.4850893957427, 141.9352986684141, 125.60683036043197, 123.51703876693607, 114.13607934867002, 110.39895905079209, 108.79666701626539, 102.31262861497385, 101.22479930009456, 100.89224047637981, 98.8294597487241, 97.85846017351862, 88.80452540544275, 88.73399659285377, 82.91921058848997, 80.63919793097978, 80.42792161708498, 80.05966105403034, 79.91581252107153, 77.31471489288967, 77.04441543051459, 379.8852680434071, 639.2569372528831, 145.11576546323792, 162.60070510635018, 414.41232757510954, 395.39691358692113, 382.0428370955966, 845.3470314035087, 548.9905596926094, 789.8287212385233, 926.1545376964234, 670.743052981803, 1139.8283598723785, 388.23633468905155, 1918.5697928550285, 569.7259626965634, 389.4805711743221, 349.1609562324384, 2284.3869553268646, 6547.828051644222, 926.8652012755811, 6597.540635177384, 1803.877827126963, 987.4124454375242, 691.1855424525022, 12496.844244375405, 2474.0093664870665, 6934.156900058653, 1519.5803091573555, 244.84059337243565, 227.13053356641043, 219.93568411166342, 207.9883746529589, 149.13206902125697, 149.11037419849845, 139.1802776757954, 137.4803835184876, 123.30775315580382, 120.08586842929597, 117.74018107480248, 111.3690434440395, 109.99487990296745, 108.81503764785394, 108.05556087280809, 105.17534333511816, 104.89275431117854, 103.74393584080116, 85.27095634121466, 85.1193631427463, 84.91422450456642, 83.9588778490747, 83.23464200319974, 78.82621713582279, 74.67348453669003, 73.42407750870125, 72.40625488644527, 70.48151180004119, 70.13124487324266, 70.07160289000429, 318.29780961885433, 1632.9700183322936, 155.39322361031194, 265.34891666929434, 276.69660214267947, 587.5660926375339, 881.8938783511012, 334.42617343179967, 739.8469962648121, 249.95092979789476, 366.29050115464594, 278.8367471545985, 2867.984779492646, 349.6717582267428, 2396.08255533018, 1471.2418587878615, 1763.733942350469, 12496.844244375405, 237.2896594982845, 469.057517594553, 1437.2513259598288, 6547.828051644222, 591.8653074728265, 404.0984651082845, 6597.540635177384, 2036.9335057008927, 6934.156900058653, 842.2321847432275, 1579.7886507619155, 1230.3088974691575, 2474.0093664870665, 2691.4653854192875, 431.29531854961476, 392.01374131511625, 358.85576299306337, 287.1632392679909, 212.63808746021869, 199.6185264104635, 199.3079723864547, 180.6907944371305, 179.98714818550772, 174.96402076854213, 159.43814005417963, 158.05954535883743, 156.27563718248788, 147.45184452235614, 146.90026444957863, 146.3788265082711, 142.56641770205428, 139.39121579314167, 136.6597577871118, 131.84189246092828, 124.52666234489801, 110.7953334529806, 110.05910078612685, 104.74741764799303, 104.21519162390888, 103.51691162568828, 98.33271875254378, 91.85409139207074, 90.37409333202123, 241.30971357099097, 531.3751261561515, 1759.4378150747177, 233.1376152316894, 3119.4957136889025, 638.0517002956793, 12496.844244375405, 283.91677036473993, 414.41232757510954, 618.9063620944764, 885.9483481699167, 476.1377077788835, 326.37349944014585, 289.0128765876602, 240.35327714106177, 220.71370458566736, 205.97716950374127, 202.9968358210775, 200.54787454154442, 191.5849204302796, 183.92703488218888, 183.08156191237774, 169.515147504017, 154.5685649153273, 154.1107054127702, 150.62825140371584, 146.30374995103182, 146.0735134823461, 139.9658016458317, 135.01574990279724, 133.57681620203476, 132.97907125892937, 132.1979921063472, 124.28306341570881, 121.78964530279724, 118.92267044388234, 116.11497447804886, 111.88678835464609, 106.41593003727007, 106.24967664074322, 106.07512551987642, 555.5900285451637, 435.5159757135532, 561.5251912150653, 308.52541783037555, 638.0517002956793, 2867.984779492646, 640.2544241064821, 623.3601811744626, 385.6344478557556, 369.5370381722488, 364.8807887463682, 348.72623734884763, 283.1872833062959, 245.96951679303035, 243.0470687003677, 214.67621512420638, 207.26413059621663, 198.41808774170877, 195.77099586703056, 194.22943073830422, 172.23099529247284, 167.41511136164107, 155.7753579299616, 155.2270781740301, 151.7130590059172, 145.7214997175303, 142.5990201628288, 139.63266813301576, 121.80439588504005, 121.01222515396256, 120.8717591890951, 115.28863519577772, 114.66616712254529, 96.6300592783085, 95.62961785200557, 93.5762633851525, 91.69146631030405, 251.68285285358075, 263.149560126599, 416.73415434135575, 555.5900285451637, 638.0517002956793, 215.74590384924036, 1759.4378150747177, 483.75428173632696, 429.23793431271656, 414.78457730345866, 310.878028937767, 227.5205394897537, 186.1327393126779, 153.0322851023102, 152.41957344899959, 140.45662756184498, 138.97100433953295, 137.9211824314994, 130.0785199186373, 123.10901823139706, 103.56887664644383, 97.52324973076485, 91.28304168146985, 88.95208621171398, 88.58330040857663, 88.50499734198895, 83.39635802385149, 80.01650213103079, 73.63830928339421, 72.30607435911894, 70.45365005241233, 70.1099580709784, 68.87700050508663, 68.41113239117433, 65.56756669949874, 64.0086658718944, 63.65071961510009, 842.2321847432275, 659.2269032661416, 739.8469962648121, 150.29170279292538, 285.9473574809378, 275.6059806298377, 326.8450115761689, 482.1050145728807, 103.71335943311091], \"Category\": [\"Default\", \"Default\", \"Default\", \"Default\", \"Default\", \"Default\", \"Default\", \"Default\", \"Default\", \"Default\", \"Default\", \"Default\", \"Default\", \"Default\", \"Default\", \"Default\", \"Default\", \"Default\", \"Default\", \"Default\", \"Default\", \"Default\", \"Default\", \"Default\", \"Default\", \"Default\", \"Default\", \"Default\", \"Default\", \"Default\", \"Topic1\", \"Topic1\", \"Topic1\", \"Topic1\", \"Topic1\", \"Topic1\", \"Topic1\", \"Topic1\", \"Topic1\", \"Topic1\", \"Topic1\", \"Topic1\", \"Topic1\", \"Topic1\", \"Topic1\", \"Topic1\", \"Topic1\", \"Topic1\", \"Topic1\", \"Topic1\", \"Topic1\", \"Topic1\", \"Topic1\", \"Topic1\", \"Topic1\", \"Topic1\", \"Topic1\", \"Topic1\", \"Topic1\", \"Topic1\", \"Topic1\", \"Topic1\", \"Topic1\", \"Topic1\", \"Topic1\", \"Topic1\", \"Topic1\", \"Topic1\", \"Topic1\", \"Topic1\", \"Topic1\", \"Topic1\", \"Topic1\", \"Topic1\", \"Topic1\", \"Topic1\", \"Topic1\", \"Topic1\", \"Topic1\", \"Topic1\", \"Topic1\", \"Topic1\", \"Topic1\", \"Topic1\", \"Topic1\", \"Topic1\", \"Topic1\", \"Topic1\", \"Topic1\", \"Topic1\", \"Topic1\", \"Topic1\", \"Topic1\", \"Topic1\", \"Topic1\", \"Topic1\", \"Topic1\", \"Topic1\", \"Topic1\", \"Topic1\", \"Topic1\", \"Topic1\", \"Topic2\", \"Topic2\", \"Topic2\", \"Topic2\", \"Topic2\", \"Topic2\", \"Topic2\", \"Topic2\", \"Topic2\", \"Topic2\", \"Topic2\", \"Topic2\", \"Topic2\", \"Topic2\", \"Topic2\", \"Topic2\", \"Topic2\", \"Topic2\", \"Topic2\", \"Topic2\", \"Topic2\", \"Topic2\", \"Topic2\", \"Topic2\", \"Topic2\", \"Topic2\", \"Topic2\", \"Topic2\", \"Topic2\", \"Topic2\", \"Topic2\", \"Topic2\", \"Topic2\", \"Topic2\", \"Topic2\", \"Topic2\", \"Topic2\", \"Topic2\", \"Topic2\", \"Topic2\", \"Topic2\", \"Topic2\", \"Topic2\", \"Topic2\", \"Topic2\", \"Topic2\", \"Topic2\", \"Topic2\", \"Topic2\", \"Topic2\", \"Topic2\", \"Topic2\", \"Topic2\", \"Topic2\", \"Topic2\", \"Topic2\", \"Topic2\", \"Topic2\", \"Topic2\", \"Topic2\", \"Topic2\", \"Topic2\", \"Topic2\", \"Topic3\", \"Topic3\", \"Topic3\", \"Topic3\", \"Topic3\", \"Topic3\", \"Topic3\", \"Topic3\", \"Topic3\", \"Topic3\", \"Topic3\", \"Topic3\", \"Topic3\", \"Topic3\", \"Topic3\", \"Topic3\", \"Topic3\", \"Topic3\", \"Topic3\", \"Topic3\", \"Topic3\", \"Topic3\", \"Topic3\", \"Topic3\", \"Topic3\", \"Topic3\", \"Topic3\", \"Topic3\", \"Topic3\", \"Topic3\", \"Topic3\", \"Topic3\", \"Topic3\", \"Topic3\", \"Topic3\", \"Topic3\", \"Topic3\", \"Topic3\", \"Topic3\", \"Topic3\", \"Topic3\", \"Topic3\", \"Topic3\", \"Topic3\", \"Topic3\", \"Topic3\", \"Topic3\", \"Topic3\", \"Topic3\", \"Topic3\", \"Topic3\", \"Topic3\", \"Topic3\", \"Topic3\", \"Topic3\", \"Topic3\", \"Topic3\", \"Topic4\", \"Topic4\", \"Topic4\", \"Topic4\", \"Topic4\", \"Topic4\", \"Topic4\", \"Topic4\", \"Topic4\", \"Topic4\", \"Topic4\", \"Topic4\", \"Topic4\", \"Topic4\", \"Topic4\", \"Topic4\", \"Topic4\", \"Topic4\", \"Topic4\", \"Topic4\", \"Topic4\", \"Topic4\", \"Topic4\", \"Topic4\", \"Topic4\", \"Topic4\", \"Topic4\", \"Topic4\", \"Topic4\", \"Topic4\", \"Topic4\", \"Topic4\", \"Topic4\", \"Topic4\", \"Topic4\", \"Topic4\", \"Topic4\", \"Topic4\", \"Topic4\", \"Topic4\", \"Topic4\", \"Topic4\", \"Topic4\", \"Topic4\", \"Topic4\", \"Topic4\", \"Topic4\", \"Topic4\", \"Topic4\", \"Topic5\", \"Topic5\", \"Topic5\", \"Topic5\", \"Topic5\", \"Topic5\", \"Topic5\", \"Topic5\", \"Topic5\", \"Topic5\", \"Topic5\", \"Topic5\", \"Topic5\", \"Topic5\", \"Topic5\", \"Topic5\", \"Topic5\", \"Topic5\", \"Topic5\", \"Topic5\", \"Topic5\", \"Topic5\", \"Topic5\", \"Topic5\", \"Topic5\", \"Topic5\", \"Topic5\", \"Topic5\", \"Topic5\", \"Topic5\", \"Topic5\", \"Topic5\", \"Topic5\", \"Topic5\", \"Topic5\", \"Topic5\", \"Topic5\", \"Topic5\", \"Topic5\", \"Topic5\", \"Topic5\", \"Topic5\", \"Topic5\", \"Topic5\", \"Topic5\", \"Topic5\", \"Topic5\", \"Topic5\", \"Topic5\", \"Topic5\", \"Topic5\", \"Topic5\", \"Topic5\", \"Topic5\", \"Topic5\", \"Topic5\", \"Topic5\", \"Topic5\", \"Topic5\", \"Topic6\", \"Topic6\", \"Topic6\", \"Topic6\", \"Topic6\", \"Topic6\", \"Topic6\", \"Topic6\", \"Topic6\", \"Topic6\", \"Topic6\", \"Topic6\", \"Topic6\", \"Topic6\", \"Topic6\", \"Topic6\", \"Topic6\", \"Topic6\", \"Topic6\", \"Topic6\", \"Topic6\", \"Topic6\", \"Topic6\", \"Topic6\", \"Topic6\", \"Topic6\", \"Topic6\", \"Topic6\", \"Topic6\", \"Topic6\", \"Topic6\", \"Topic6\", \"Topic6\", \"Topic6\", \"Topic6\", \"Topic6\", \"Topic6\", \"Topic6\", \"Topic6\", \"Topic6\", \"Topic6\", \"Topic6\", \"Topic6\", \"Topic6\", \"Topic6\", \"Topic6\", \"Topic6\", \"Topic6\", \"Topic6\", \"Topic6\", \"Topic6\", \"Topic6\", \"Topic6\", \"Topic6\", \"Topic6\", \"Topic6\", \"Topic6\", \"Topic6\", \"Topic6\", \"Topic6\", \"Topic6\", \"Topic7\", \"Topic7\", \"Topic7\", \"Topic7\", \"Topic7\", \"Topic7\", \"Topic7\", \"Topic7\", \"Topic7\", \"Topic7\", \"Topic7\", \"Topic7\", \"Topic7\", \"Topic7\", \"Topic7\", \"Topic7\", \"Topic7\", \"Topic7\", \"Topic7\", \"Topic7\", \"Topic7\", \"Topic7\", \"Topic7\", \"Topic7\", \"Topic7\", \"Topic7\", \"Topic7\", \"Topic7\", \"Topic7\", \"Topic7\", \"Topic7\", \"Topic7\", \"Topic7\", \"Topic7\", \"Topic7\", \"Topic7\", \"Topic7\", \"Topic7\", \"Topic7\", \"Topic7\", \"Topic7\", \"Topic8\", \"Topic8\", \"Topic8\", \"Topic8\", \"Topic8\", \"Topic8\", \"Topic8\", \"Topic8\", \"Topic8\", \"Topic8\", \"Topic8\", \"Topic8\", \"Topic8\", \"Topic8\", \"Topic8\", \"Topic8\", \"Topic8\", \"Topic8\", \"Topic8\", \"Topic8\", \"Topic8\", \"Topic8\", \"Topic8\", \"Topic8\", \"Topic8\", \"Topic8\", \"Topic8\", \"Topic8\", \"Topic8\", \"Topic8\", \"Topic8\", \"Topic8\", \"Topic8\", \"Topic8\", \"Topic8\", \"Topic8\", \"Topic8\", \"Topic9\", \"Topic9\", \"Topic9\", \"Topic9\", \"Topic9\", \"Topic9\", \"Topic9\", \"Topic9\", \"Topic9\", \"Topic9\", \"Topic9\", \"Topic9\", \"Topic9\", \"Topic9\", \"Topic9\", \"Topic9\", \"Topic9\", \"Topic9\", \"Topic9\", \"Topic9\", \"Topic9\", \"Topic9\", \"Topic9\", \"Topic9\", \"Topic9\", \"Topic9\", \"Topic9\", \"Topic9\", \"Topic9\", \"Topic9\", \"Topic9\", \"Topic9\", \"Topic9\", \"Topic9\", \"Topic9\", \"Topic9\", \"Topic9\", \"Topic10\", \"Topic10\", \"Topic10\", \"Topic10\", \"Topic10\", \"Topic10\", \"Topic10\", \"Topic10\", \"Topic10\", \"Topic10\", \"Topic10\", \"Topic10\", \"Topic10\", \"Topic10\", \"Topic10\", \"Topic10\", \"Topic10\", \"Topic10\", \"Topic10\", \"Topic10\", \"Topic10\", \"Topic10\", \"Topic10\", \"Topic10\", \"Topic10\", \"Topic10\", \"Topic10\", \"Topic10\", \"Topic10\", \"Topic10\", \"Topic10\", \"Topic10\", \"Topic10\", \"Topic10\", \"Topic10\", \"Topic10\", \"Topic10\", \"Topic10\", \"Topic10\"], \"logprob\": [30.0, 29.0, 28.0, 27.0, 26.0, 25.0, 24.0, 23.0, 22.0, 21.0, 20.0, 19.0, 18.0, 17.0, 16.0, 15.0, 14.0, 13.0, 12.0, 11.0, 10.0, 9.0, 8.0, 7.0, 6.0, 5.0, 4.0, 3.0, 2.0, 1.0, -4.7369, -5.125, -5.115, -5.9211, -5.9648, -5.9652, -5.9674, -6.0102, -6.045, -6.1349, -6.1927, -6.2803, -6.2917, -6.3499, -6.3797, -6.3807, -6.4321, -6.4362, -6.5151, -6.5158, -6.5279, -6.5375, -6.5659, -6.6006, -6.6406, -6.6599, -6.6311, -6.6833, -6.6954, -6.6987, -5.4368, -5.7521, -5.5179, -5.8439, -5.3427, -5.3445, -4.8557, -5.125, -4.2715, -5.384, -4.6532, -4.2974, -5.6758, -5.078, -5.5485, -3.0156, -3.5885, -5.0679, -4.5741, -4.7879, -3.6243, -4.9655, -4.6865, -4.1817, -4.705, -4.8133, -5.2749, -4.3137, -4.7988, -4.757, -4.3001, -5.0381, -4.5583, -4.7396, -4.575, -4.1752, -4.5791, -4.9423, -4.7381, -4.7068, -4.9275, -4.8963, -4.4141, -5.1112, -5.128, -5.1678, -5.295, -5.336, -5.3869, -5.5469, -5.5516, -5.5719, -5.5807, -5.6552, -5.7442, -5.7481, -5.8318, -5.8621, -5.877, -5.9648, -6.102, -6.1261, -6.1485, -6.1817, -6.2197, -6.2368, -6.2712, -6.2743, -6.2752, -6.2827, -6.3099, -6.3325, -4.5392, -5.4213, -4.923, -5.3538, -5.5857, -3.4104, -5.428, -4.5419, -3.6705, -4.7253, -3.3393, -4.9591, -4.4836, -4.3978, -5.2443, -3.0239, -3.5271, -5.2523, -4.4991, -4.0826, -3.7139, -4.2747, -4.517, -4.676, -4.4708, -4.2413, -4.5694, -4.8514, -4.9244, -4.6691, -4.8747, -4.9383, -5.0108, -3.3345, -4.069, -4.4155, -4.692, -4.7601, -4.8988, -5.0122, -5.1831, -5.2683, -5.3823, -5.4402, -5.5892, -5.6404, -5.7588, -5.8004, -5.8289, -5.8367, -5.8425, -5.8545, -5.9607, -5.978, -5.9874, -6.0045, -6.0209, -6.0475, -6.0924, -6.2251, -6.2457, -6.2854, -6.3134, -3.2813, -3.5399, -5.4044, -3.4218, -3.3593, -5.4474, -5.1453, -4.8235, -5.204, -5.3997, -5.2345, -3.9969, -4.0379, -4.855, -5.4175, -4.5386, -4.8268, -4.305, -4.9463, -5.1407, -5.0987, -4.997, -4.9248, -5.1117, -5.1869, -5.2039, -5.1426, -3.6475, -4.3586, -4.3791, -4.4767, -4.6392, -4.6869, -4.8743, -5.1406, -5.1749, -5.2783, -5.2906, -5.3169, -5.3367, -5.3465, -5.3729, -5.3895, -5.4354, -5.4378, -5.4685, -5.5502, -5.5967, -5.6033, -5.6156, -5.6422, -5.6963, -5.7125, -5.7226, -5.7237, -5.7346, -5.7664, -4.9982, -2.6464, -2.7129, -3.037, -3.9977, -4.5025, -4.4065, -4.7042, -5.3943, -5.1745, -4.3606, -5.0985, -5.1664, -4.9042, -5.2215, -5.0325, -5.0779, -5.258, -5.2788, -4.2302, -4.4095, -4.9317, -5.0169, -5.1058, -5.3061, -5.3884, -5.4482, -5.4664, -5.4826, -5.4864, -5.6091, -5.6259, -5.7052, -5.7386, -5.7533, -5.815, -5.8258, -5.8291, -5.8498, -5.8597, -5.9573, -5.9581, -6.0263, -6.0543, -6.0569, -6.0616, -6.0634, -6.0966, -6.1002, -4.7568, -4.3454, -5.5839, -5.5377, -4.8585, -4.9187, -4.9688, -4.4508, -4.7492, -4.5518, -4.5621, -4.7627, -4.4762, -5.1382, -4.3493, -4.9625, -5.1603, -5.209, -4.5163, -4.1647, -4.8843, -4.2639, -4.7235, -4.9829, -5.0833, -4.4639, -4.912, -4.8313, -5.0597, -4.8837, -4.9589, -4.9911, -5.0471, -5.3806, -5.3808, -5.4499, -5.4622, -5.5714, -5.598, -5.6178, -5.6737, -5.6861, -5.697, -5.704, -5.7311, -5.7338, -5.7449, -5.9419, -5.9437, -5.9462, -5.9575, -5.9662, -6.021, -6.0754, -6.0924, -6.1064, -6.1336, -6.1386, -6.1394, -4.7685, -3.5016, -5.4726, -5.0568, -5.0355, -4.4424, -4.1246, -4.8937, -4.2863, -5.1858, -4.9185, -5.1118, -3.4972, -4.957, -3.7529, -4.1795, -4.1077, -3.2718, -5.2946, -5.0287, -4.616, -4.1885, -5.0635, -5.1994, -4.5684, -4.8359, -4.6724, -5.058, -4.9507, -5.1055, -5.0947, -2.1823, -4.0142, -4.1098, -4.1983, -4.4215, -4.7225, -4.7858, -4.7874, -4.8857, -4.8896, -4.918, -5.0111, -5.0199, -5.0312, -5.0895, -5.0933, -5.0969, -5.1233, -5.1459, -5.1658, -5.2018, -5.2591, -5.3764, -5.3831, -5.4328, -5.4379, -5.4446, -5.4962, -5.5647, -5.5811, -4.8447, -4.2796, -4.1371, -5.1072, -4.055, -4.708, -3.8395, -5.1257, -5.0766, -5.047, -5.1276, -3.7409, -4.1191, -4.2408, -4.4255, -4.5109, -4.5801, -4.5948, -4.6069, -4.6527, -4.6936, -4.6983, -4.7754, -4.868, -4.871, -4.8939, -4.9231, -4.9247, -4.9676, -5.0037, -5.0144, -5.0189, -5.0249, -5.0868, -5.1072, -5.1311, -5.1551, -5.1923, -5.2426, -5.2442, -5.2459, -4.1351, -4.5019, -4.5286, -4.7897, -4.6814, -4.7428, -5.0218, -3.4213, -3.902, -3.9447, -3.9574, -4.0027, -4.2112, -4.3524, -4.3643, -4.4887, -4.5239, -4.5676, -4.5811, -4.589, -4.7095, -4.738, -4.8102, -4.8138, -4.8367, -4.8772, -4.8989, -4.92, -5.0571, -5.0636, -5.0648, -5.1123, -5.1177, -5.2896, -5.3001, -5.3219, -5.3423, -4.5, -4.5507, -4.3506, -4.3985, -4.389, -4.9293, -4.6967, -3.5444, -3.6641, -3.6984, -3.9872, -4.2999, -4.5011, -4.6975, -4.7015, -4.7835, -4.7941, -4.8018, -4.8605, -4.9158, -5.0893, -5.1497, -5.2162, -5.2422, -5.2464, -5.2473, -5.307, -5.3486, -5.4322, -5.4506, -5.4767, -5.4816, -5.4995, -5.5063, -5.5491, -5.5733, -5.579, -3.7421, -3.9315, -4.0371, -5.029, -4.6747, -4.8075, -4.9409, -5.0185, -5.3884], \"loglift\": [30.0, 29.0, 28.0, 27.0, 26.0, 25.0, 24.0, 23.0, 22.0, 21.0, 20.0, 19.0, 18.0, 17.0, 16.0, 15.0, 14.0, 13.0, 12.0, 11.0, 10.0, 9.0, 8.0, 7.0, 6.0, 5.0, 4.0, 3.0, 2.0, 1.0, 1.3378, 1.3376, 1.3373, 1.3368, 1.3367, 1.3367, 1.3367, 1.3367, 1.3366, 1.3365, 1.3364, 1.3362, 1.3362, 1.336, 1.336, 1.336, 1.3359, 1.3358, 1.3356, 1.3356, 1.3356, 1.3356, 1.3355, 1.3354, 1.3353, 1.3352, 1.3352, 1.3352, 1.3351, 1.3351, 1.3272, 1.3255, 1.3009, 1.311, 1.284, 1.2826, 1.234, 1.2482, 1.0991, 1.2033, 1.0866, 0.9853, 1.2092, 1.0959, 1.1624, 0.5614, 0.6273, 1.0118, 0.8769, 0.9285, 0.5418, 0.964, 0.8573, 0.6529, 0.8302, 0.8554, 1.0531, 0.639, 0.8464, 0.7874, 0.5504, 0.9213, 0.6384, 0.6516, 0.474, 0.0482, 0.4187, 0.8119, 0.4907, -0.1587, 0.5384, 0.3801, 1.6259, 1.6255, 1.6255, 1.6254, 1.6253, 1.6253, 1.6252, 1.625, 1.625, 1.625, 1.625, 1.6249, 1.6247, 1.6247, 1.6246, 1.6245, 1.6245, 1.6243, 1.624, 1.624, 1.6239, 1.6238, 1.6237, 1.6237, 1.6236, 1.6236, 1.6236, 1.6236, 1.6235, 1.6234, 1.6104, 1.5921, 1.5681, 1.5826, 1.5896, 1.4479, 1.5662, 1.4688, 1.2943, 1.4292, 1.2088, 1.4099, 1.2006, 1.1019, 1.4011, 0.5532, 0.6964, 1.3981, 1.0384, 0.7521, 0.4522, 0.723, 0.7595, 0.7899, 0.3797, -0.0255, 0.3833, 0.7998, 0.7673, 0.2219, 0.6085, 0.6527, 0.6357, 2.0229, 2.0226, 2.0224, 2.0222, 2.0222, 2.022, 2.0219, 2.0217, 2.0216, 2.0214, 2.0213, 2.021, 2.0209, 2.0206, 2.0205, 2.0204, 2.0204, 2.0204, 2.0204, 2.02, 2.02, 2.02, 2.0199, 2.0199, 2.0198, 2.0196, 2.0191, 2.019, 2.0189, 2.0188, 1.4405, 1.3511, 1.811, 1.169, 1.1481, 1.7544, 1.5786, 1.4119, 1.5567, 1.6538, 1.388, 0.219, 0.1282, 0.8366, 1.5088, 0.3119, 0.6858, -0.0815, 0.2504, 0.7546, 0.4924, 0.0007, -0.3767, 0.2794, 0.5725, 0.5438, -1.5655, 2.5021, 2.5016, 2.5016, 2.5015, 2.5013, 2.5012, 2.5009, 2.5004, 2.5004, 2.5001, 2.5001, 2.5, 2.5, 2.5, 2.4999, 2.4998, 2.4997, 2.4997, 2.4996, 2.4994, 2.4992, 2.4992, 2.4991, 2.4991, 2.4989, 2.4988, 2.4988, 2.4988, 2.4987, 2.4986, 2.4018, 1.9444, 1.7945, 1.6849, 1.9394, 2.0332, 1.8641, 1.9815, 2.2625, 1.9008, 0.6042, 1.4023, 1.4731, 0.0486, 1.2546, -0.182, -0.8545, -1.0421, -0.3878, 2.5708, 2.5707, 2.5699, 2.5697, 2.5695, 2.569, 2.5688, 2.5686, 2.5686, 2.5685, 2.5685, 2.5681, 2.568, 2.5677, 2.5676, 2.5675, 2.5672, 2.5672, 2.5672, 2.5671, 2.567, 2.5666, 2.5666, 2.5662, 2.566, 2.566, 2.566, 2.566, 2.5658, 2.5658, 2.3137, 2.2046, 2.4489, 2.3813, 2.125, 2.1118, 2.0959, 1.8198, 1.953, 1.7867, 1.6172, 1.7393, 1.4955, 1.9105, 1.1017, 1.7026, 1.8852, 1.9457, 0.7602, 0.0587, 1.2942, -0.048, 0.7892, 1.1323, 1.3886, -0.8869, 0.2848, -0.6652, 0.6244, 2.626, 2.6259, 2.6258, 2.6257, 2.6248, 2.6248, 2.6246, 2.6246, 2.6242, 2.6241, 2.624, 2.6238, 2.6237, 2.6237, 2.6237, 2.6236, 2.6235, 2.6235, 2.6225, 2.6225, 2.6225, 2.6225, 2.6224, 2.6221, 2.6218, 2.6217, 2.6216, 2.6214, 2.6214, 2.6214, 2.4788, 2.1105, 2.4918, 2.3724, 2.3519, 2.1919, 2.1037, 2.3042, 2.1176, 2.3033, 2.1884, 2.2679, 1.5517, 2.1963, 1.4759, 1.5369, 1.4275, 0.3053, 2.2465, 1.8309, 1.1239, 0.0349, 1.5636, 1.8093, -0.3526, 0.5552, -0.5063, 1.2163, 0.6946, 0.7898, 0.102, 2.9302, 2.9293, 2.9292, 2.9291, 2.9288, 2.9282, 2.9281, 2.9281, 2.9278, 2.9278, 2.9278, 2.9275, 2.9275, 2.9275, 2.9273, 2.9273, 2.9273, 2.9272, 2.9271, 2.927, 2.9269, 2.9267, 2.9262, 2.9262, 2.926, 2.926, 2.926, 2.9257, 2.9254, 2.9253, 2.6795, 2.4553, 1.4005, 2.4515, 0.9099, 1.8439, -0.2624, 2.2359, 1.9069, 1.5354, 1.096, 3.1037, 3.1032, 3.103, 3.1027, 3.1025, 3.1024, 3.1024, 3.1023, 3.1022, 3.1021, 3.1021, 3.1019, 3.1017, 3.1017, 3.1016, 3.1015, 3.1015, 3.1014, 3.1012, 3.1012, 3.1012, 3.1012, 3.1009, 3.1009, 3.1008, 3.1007, 3.1005, 3.1003, 3.1003, 3.1003, 2.5552, 2.4318, 2.151, 2.4888, 1.8705, 0.3062, 1.5267, 3.1539, 3.1534, 3.1534, 3.1534, 3.1533, 3.153, 3.1528, 3.1527, 3.1525, 3.1524, 3.1523, 3.1523, 3.1522, 3.1519, 3.1519, 3.1517, 3.1516, 3.1516, 3.1515, 3.1514, 3.1513, 3.1508, 3.1508, 3.1508, 3.1506, 3.1506, 3.1498, 3.1498, 3.1497, 3.1496, 2.9822, 2.8869, 2.6273, 2.2918, 2.1629, 2.7069, 0.8409, 3.2843, 3.2842, 3.2841, 3.2838, 3.2832, 3.2828, 3.2822, 3.2822, 3.2819, 3.2819, 3.2819, 3.2817, 3.2815, 3.2808, 3.2805, 3.2802, 3.28, 3.28, 3.28, 3.2797, 3.2794, 3.2789, 3.2788, 3.2786, 3.2786, 3.2785, 3.2784, 3.2782, 3.278, 3.2779, 2.5321, 2.5877, 2.3668, 2.9687, 2.6798, 2.5839, 2.2799, 1.8137, 2.9803]}, \"token.table\": {\"Topic\": [3, 6, 1, 2, 3, 5, 6, 6, 7, 9, 2, 5, 1, 2, 3, 5, 2, 5, 10, 2, 3, 1, 2, 3, 4, 6, 7, 8, 8, 1, 3, 1, 6, 4, 1, 1, 5, 7, 10, 8, 7, 4, 8, 8, 3, 1, 4, 4, 3, 2, 1, 4, 6, 1, 2, 3, 4, 5, 9, 9, 1, 3, 5, 6, 1, 2, 3, 4, 5, 6, 1, 7, 3, 2, 3, 7, 9, 1, 2, 10, 5, 10, 2, 4, 7, 5, 8, 6, 9, 1, 2, 3, 5, 6, 9, 10, 1, 4, 7, 5, 6, 2, 1, 3, 4, 6, 7, 8, 8, 10, 2, 4, 1, 9, 9, 2, 2, 3, 9, 1, 5, 2, 8, 3, 3, 3, 4, 4, 2, 4, 6, 4, 3, 2, 2, 7, 10, 1, 5, 5, 3, 6, 1, 5, 10, 6, 8, 5, 9, 4, 7, 4, 8, 9, 4, 4, 5, 2, 5, 8, 1, 9, 1, 1, 7, 6, 10, 10, 2, 3, 3, 5, 6, 1, 6, 8, 7, 9, 1, 9, 1, 6, 1, 8, 1, 6, 10, 9, 3, 1, 2, 3, 4, 2, 5, 5, 8, 2, 5, 5, 2, 7, 4, 5, 3, 2, 7, 10, 9, 2, 3, 4, 3, 9, 10, 1, 7, 2, 3, 4, 7, 8, 6, 10, 1, 2, 3, 4, 5, 1, 3, 4, 6, 7, 6, 4, 1, 7, 1, 9, 8, 6, 9, 1, 9, 3, 1, 3, 7, 8, 7, 8, 9, 5, 4, 1, 3, 6, 8, 1, 2, 3, 5, 2, 4, 7, 7, 9, 3, 3, 1, 2, 5, 7, 2, 3, 6, 10, 7, 1, 4, 3, 5, 1, 2, 3, 4, 5, 6, 10, 5, 8, 6, 5, 10, 6, 10, 3, 4, 5, 8, 1, 2, 3, 4, 6, 9, 4, 1, 2, 3, 4, 6, 7, 5, 1, 6, 10, 3, 1, 2, 3, 4, 5, 6, 3, 5, 8, 3, 3, 4, 6, 7, 9, 10, 8, 9, 10, 9, 2, 7, 3, 5, 2, 1, 5, 7, 4, 5, 6, 5, 6, 6, 2, 3, 10, 1, 1, 6, 1, 4, 6, 9, 2, 1, 2, 3, 4, 5, 7, 3, 4, 5, 7, 3, 2, 5, 8, 1, 5, 9, 7, 4, 4, 1, 2, 3, 4, 5, 7, 4, 7, 10, 1, 2, 3, 4, 5, 10, 1, 2, 3, 5, 9, 9, 3, 4, 8, 1, 2, 3, 4, 1, 4, 5, 1, 2, 3, 4, 5, 3, 4, 8, 8, 3, 7, 5, 2, 5, 10, 8, 4, 2, 1, 3, 5, 6, 1, 2, 3, 5, 7, 6, 5, 1, 2, 3, 6, 6, 1, 8, 4, 5, 4, 5, 5, 2, 7, 5, 3, 9, 9, 9, 2, 3, 1, 2, 3, 4, 6, 8, 1, 4, 6, 1, 3, 4, 4, 6, 2, 3, 8, 1, 2, 3, 5, 6, 5, 1, 5, 6, 1, 2, 4, 6, 4, 4, 9, 4, 10, 3, 4, 3, 9, 10, 7, 10, 2, 8, 7, 8, 4, 1, 10, 7, 1, 6, 9, 1, 1, 6, 7, 6, 3, 5, 1, 2, 3, 6, 8, 2, 3, 1, 4, 6, 1, 3, 5, 6, 1, 3, 4, 6, 3, 4, 8, 10, 1, 2, 1, 2, 3, 4, 5, 1, 4, 6, 9, 3, 7, 7, 8, 2, 7, 1, 4, 10, 5, 4, 10, 2, 1, 3, 10, 6, 7, 1, 9, 10, 9, 1, 5, 4, 6, 4, 9, 10, 9, 9, 10, 7, 10, 3, 4, 6, 7, 9, 1, 2, 3, 8, 1, 6, 1, 2, 3, 4, 5, 6, 3, 6, 2, 5, 10, 1, 7, 4, 6, 3, 1, 6, 2, 2, 7, 6, 1, 10, 1, 2, 9, 8, 1, 2, 4, 5, 8, 2, 5, 8, 1, 2, 4, 2, 5, 4, 2, 5, 2, 1, 2, 9, 3, 6, 6, 1, 2, 3, 4, 5, 6, 8, 2, 3, 4, 6, 7, 3, 4, 1, 2, 3, 4, 6, 1, 3, 4, 1, 3, 4, 1, 2, 3, 5, 6, 7, 7, 10, 5, 6, 1, 3, 4, 5, 4, 8, 6, 3, 2, 3, 4, 5, 7, 1, 9, 10, 1, 2, 5, 10, 1, 5, 7, 8, 8, 7, 6, 10, 2, 1, 2, 3, 4, 5, 6, 4, 7, 6, 10, 2, 5, 3, 7, 1, 3, 4, 1, 2, 3, 4, 6, 8, 1, 2, 3, 4, 5, 6, 8, 2, 7, 8, 9, 9, 5, 1, 2, 3, 4, 5, 6, 1, 2, 3, 4, 5, 6, 7, 8, 10, 6, 10, 1, 2, 5, 1, 2, 3, 4, 5, 6, 1, 3, 6, 5, 2, 1, 2, 3, 7, 10, 7, 4, 8], \"Freq\": [0.23852840797071623, 0.7589540253613698, 0.4196514800593088, 0.09202397052819718, 0.2627672411467799, 0.16797146427737195, 0.05765357189718377, 0.999485811999315, 0.9958606131665757, 0.998546727075302, 0.9995824757908817, 0.9885402839290403, 0.21669929324065554, 0.21055801772371388, 0.23161381949608525, 0.34127945372718627, 0.9955230578239554, 0.998807744672442, 0.9997890307768154, 0.9977310106778, 0.993324325587306, 0.3143681386093503, 0.3714107444054018, 0.18697298566483536, 0.0006338067310672385, 0.03739459713296707, 0.05831021925818594, 0.031056529822294687, 0.9972681109545695, 0.9987717870798907, 0.9991805779518175, 0.4035591545477474, 0.5958468245447014, 0.9996589504750892, 0.9969976439770979, 0.9995211278972199, 0.9951688108147411, 0.26614909044654794, 0.7319099987280069, 0.9998833476627091, 0.9961769251207158, 0.9039718094000317, 0.0951549273052665, 0.9979238402902627, 0.9963195871611106, 0.40490063176690777, 0.5930181819240994, 0.9985244385895472, 0.9944558039194503, 0.9982577161649665, 0.9987361089459218, 0.9948045361219374, 0.9943892293962393, 0.495226853302532, 0.2128482177518046, 0.23413303952698505, 0.05392154849712383, 0.002837976236690728, 0.9986588053324514, 0.9952999497169892, 0.6114741991177797, 0.13925913437464962, 0.10444435078098721, 0.14495609896270345, 0.5049295428860667, 0.05353121228305005, 0.09548810839679199, 0.013021105690471635, 0.3067193784866652, 0.02604221138094327, 0.8791352651777249, 0.12027970045963898, 0.9960567420015871, 0.5552910092241651, 0.12901848423120316, 0.21654644269642467, 0.09889522579836718, 0.6880340962568321, 0.31205458399912556, 0.9939902706357281, 0.9912275323768999, 0.9934152328273359, 0.957692457373145, 0.04143861594403031, 0.9999649468534696, 0.9916071609534948, 0.9922414251173604, 0.9991144156845424, 0.9941903776915003, 0.7850569654239152, 0.05369746685526096, 0.06980670691183924, 0.04081007480999833, 0.0504756188439453, 0.9950487764747902, 0.9971756481448139, 0.9986164038821709, 0.9978664005418099, 0.9972519746277099, 0.9992547925728779, 1.0000558942155324, 0.9989568228651788, 0.873503239791102, 0.055202806975645856, 0.001623611969871937, 0.06981531470449329, 1.0002056378865771, 0.995829126356702, 0.9977224296864811, 0.9998646140834784, 0.7955825990644078, 0.20408423193391328, 0.9863125377181868, 0.010605511158260073, 0.9985371226676345, 0.9992114856298004, 0.9965058914592577, 0.999533405013486, 0.9983547946525957, 0.9984409352996052, 0.9917281242698711, 0.9974509947601556, 0.996961053265138, 0.9944622642565601, 0.9993333422625293, 0.9976466077430542, 0.9952138307516804, 0.9999034528685872, 0.8538402603400308, 0.14504337755776164, 0.9942242718861399, 0.999254149385242, 0.9946687771705501, 0.998218859845876, 0.9970092601800009, 0.9998270884619922, 0.9972472469282957, 0.751736044443426, 0.2480728946663306, 0.9969443790155139, 0.13823532135734076, 0.8608290466343493, 0.9946609937689963, 0.9911565005181078, 0.9977121208884214, 0.9925098803853604, 1.000244333642691, 0.3569013298802016, 0.6396413444606212, 0.995038816443108, 0.9984547914327403, 0.9983374795844959, 0.9985301754764324, 0.9998063391563643, 0.9947545005743619, 0.9976808581742914, 0.9958140288004178, 0.9646859657013123, 0.0350794896618659, 0.999009822130473, 1.0001335779494167, 0.9933960028355688, 0.9976276605294117, 0.2196347557488933, 0.7790817751092819, 0.9914888848420353, 0.9892966398848935, 0.99576696201762, 0.999353277905126, 0.9980840162968552, 0.358823436662015, 0.2004461956525739, 0.4404867015575081, 0.9738339242885177, 0.02577795681940194, 0.9976500950531131, 0.23180734169060904, 0.7638241914723347, 0.9475575798034087, 0.05236057927612419, 0.9997510038152521, 0.9987047182344662, 0.9954239508287299, 0.9997107816149956, 0.9993391725333335, 0.9965058031830192, 0.9967489781737503, 0.995799268731687, 0.9985133354707234, 0.33619837040571326, 0.43743992513016106, 0.18592788666376567, 0.04011457828704534, 0.4639694018140897, 0.5355696181434245, 0.9946794395717161, 0.9956817641082093, 0.9842810835517786, 0.015723339992839914, 0.993410387146899, 0.5001465740032777, 0.5001465740032777, 0.9970223117652969, 0.9993118148309901, 1.000054007138725, 0.4201891619222497, 0.08039720426671204, 0.49755250942418017, 0.9954690536142082, 0.09493651897078643, 0.6403561279598143, 0.26247155244864484, 0.9943118598985617, 0.993841778199877, 0.9991144577955114, 0.9974359935985293, 0.9969991854806441, 0.49926777122519056, 0.11471848465044832, 0.1373390309195508, 0.24721025565519145, 0.9920742353258435, 0.9892335529188369, 0.9945072625593322, 0.4214911632282164, 0.31699501793536405, 0.2279278336924631, 0.007714480524975674, 0.02594870722037272, 0.4018292948289605, 0.27879729163694733, 0.016931009613579795, 0.1422204807540703, 0.16028022434188874, 0.9981285820110583, 0.9982399147491475, 0.9640373971213521, 0.03479540499164116, 0.9881471624106877, 0.009687717278536153, 0.9960914682874603, 0.9931682538052353, 0.9968500696557597, 0.9013504452507539, 0.09872403562439802, 0.9977073758592332, 0.21422511131591737, 0.5970955230294719, 0.09799659347430263, 0.08888063129064658, 0.9928215979121708, 0.15495692121182636, 0.8423299306899279, 0.9926774685464741, 0.9982783133607226, 0.6015646546927825, 0.060099767575339254, 0.3010658168160863, 0.03685363106034954, 0.5236707053299287, 0.08853813987021474, 0.0032392002391541976, 0.38546482845934954, 0.7174236496556984, 0.14970368382002286, 0.13271375824730078, 0.9994315453871916, 0.9975204665919054, 0.9995791208717838, 1.0000960119148292, 0.7213634410303249, 0.13097926978057392, 0.1368440132035847, 0.010752029608853082, 0.18997136763276198, 0.09498568381638099, 0.2434008147794763, 0.47136645593879073, 0.9971933970809018, 0.6671584366854978, 0.3320900254037188, 0.3769210832343589, 0.6203492828232158, 0.42861628357311726, 0.08054814287206585, 0.09098184013528682, 0.06009809623615277, 0.02420617765067264, 0.31593235313033086, 0.9994456820012948, 0.7712855028811507, 0.2263841407774026, 1.00048978919179, 0.8241046673958536, 0.17220097527674555, 0.995745646662829, 0.9981084704051456, 0.1822940738376963, 0.2618872610062679, 0.5032343446787109, 0.05135044333456234, 0.5040387131762731, 0.4170772601492109, 0.06219573177663672, 0.016604290383807993, 0.9895184982123504, 1.0001239308324343, 0.9953716254298358, 0.454896240798894, 0.28734803394273317, 0.18070045517592773, 0.06833450757444103, 0.004574695067745006, 0.00400285818427688, 0.9981064077138108, 0.8378818214202823, 0.15985903171834334, 0.9946346155177417, 0.9986446192561135, 0.491243658692958, 0.19173811423838072, 0.16460679214457033, 0.02895018167551835, 0.07275438326831837, 0.050776496656013866, 0.3667201108997131, 0.6322760532753674, 0.9999554463184748, 0.9980989173382371, 0.9991591692387546, 0.15317425754777256, 0.6467357540905952, 0.022125170534678256, 0.12424134223319329, 0.05276002204423277, 0.577764148936496, 0.4211738655798756, 0.9872671501567224, 0.9994221941257396, 0.9972856393002196, 0.9950065007005097, 0.999660763553348, 0.990940490906633, 0.9981556943752418, 0.9981939150422439, 0.6394597418243319, 0.35954528879934133, 0.23954481250315246, 0.5151501344153816, 0.24469631384730628, 0.9966433907867241, 0.9971809573808137, 0.9975041864933265, 0.22401758275773637, 0.5455242987526358, 0.2302402933898957, 1.0002677885093139, 0.9960680463008736, 0.9965667728506237, 0.2451961195457163, 0.029901965798258084, 0.7236275723178456, 0.996061746207011, 0.9977562239434699, 0.39853651628590303, 0.40516222727984985, 0.13218293432923967, 0.01590170638547244, 0.04770511915641732, 1.0000714040675784, 0.4144657164381277, 0.15057927108003918, 0.435338090647242, 0.9969014578877732, 0.9998953668285171, 0.9414739918863381, 0.058537243018839676, 0.9935163182318661, 0.9461883369142495, 0.02365470842285624, 0.030413196543672305, 0.9969356468627448, 0.9996701686568312, 0.9936615448274988, 0.2237821748353507, 0.6586676477448424, 0.09065396884264915, 0.00295840457761559, 0.001267887676120967, 0.02261066355749058, 0.9967534013932892, 0.2603329035678709, 0.7327889137465997, 0.3136001227680632, 0.3777592301030207, 0.21646203502728645, 0.08034878862508694, 0.011992356511207006, 0.9993963652208956, 0.9990790229033222, 0.9958395288137326, 0.38980633860047215, 0.5391713842324287, 0.07103947292251594, 0.9978928950154332, 0.2135398129715632, 0.2755352425439525, 0.5097401987063122, 0.18816599713791, 0.24562808170692366, 0.5106086789422716, 0.05567569852023603, 0.9948928131130615, 0.9968538652165897, 0.9944934280144984, 0.38347268528971984, 0.42024403867366555, 0.02188771034758675, 0.010943855173793374, 0.16328231919299713, 0.0745481528288382, 0.3857056602883368, 0.5412844140180861, 0.9992917706247508, 0.9982749996597361, 0.9994630086407693, 0.9963862064079015, 0.9439705677079119, 0.04424862036130837, 0.011799632096348898, 0.9994967363994091, 0.9961350234266035, 0.9944571932070708, 0.26070361802998065, 0.5298170301899606, 0.03700309417199725, 0.17155980025198725, 0.7025809940700195, 0.21363748095546045, 0.07840715795891126, 0.005285875817454692, 0.9993152753185268, 0.9928291149282908, 0.9994235087609348, 0.6168524004429627, 0.3012987039978757, 0.07905041266180826, 0.002591816808583877, 0.9992849414305021, 0.7934345798686951, 0.20616804043832235, 0.11025680048563206, 0.8820544038850565, 0.5275939743462721, 0.4719955061976739, 0.9946996341105703, 0.9985103833476757, 0.9974120129440327, 0.9920733595152215, 0.997992153118764, 0.9927877347451253, 0.9987256328653837, 0.9998989758766356, 0.9979418607492214, 0.9948813220070295, 0.5762807164277325, 0.1768329109991751, 0.13620140070486625, 0.08526894413876081, 0.024607816093736343, 0.9995545050439499, 0.250597045092556, 0.15648141277272729, 0.5919079526620553, 0.5868016448148359, 0.05474534295648615, 0.35755552118455014, 0.301251541832924, 0.6993339363978593, 0.3276789766134065, 0.28671910453673066, 0.3846666247200859, 0.4491527990271752, 0.433281675386639, 0.09893000402600914, 0.01216786145774444, 0.005819412001529949, 0.9959294308551009, 0.6559745679989402, 0.2783576291837608, 0.06473433236831647, 0.557908514174328, 0.01888752782361006, 0.2876715776211378, 0.13511846827659504, 0.9974035283823379, 0.9996871989633512, 0.9975860917495977, 0.9995976964908244, 0.9897767123602839, 0.3732184504274002, 0.6261433507170433, 0.7655107531717952, 0.1470981447271293, 0.0900600886084465, 0.9982362114309218, 0.998431634050229, 0.999333598605843, 1.0001573837211564, 0.9979351223122492, 0.9969469390964282, 0.9994278697565522, 0.996913455019107, 0.9992868567175873, 0.9960269907094248, 0.9998290991439145, 0.9909809413492802, 0.9934796761689463, 0.9993947002691786, 0.6640648470979058, 0.33577076199218575, 0.9907016510737107, 0.9985976969476836, 0.6909817639448466, 0.3079656550915234, 0.42120167744185116, 0.10041894296626915, 0.07636023788060049, 0.34100599382295566, 0.06101845492742049, 0.9990037141370276, 0.9995448483052134, 0.524455937219706, 0.025583216449741753, 0.4498382225746258, 0.3231602133756703, 0.02573842407416843, 0.0028598248971298257, 0.6491802516484705, 0.5018033600721491, 0.14361375624960496, 0.010137441617619173, 0.3446730149990519, 0.2804038238558707, 0.5475810522468418, 0.17194574104369428, 0.9968992961205486, 0.2013604735654506, 0.798557775507428, 0.25557894605542525, 0.5921550741583942, 0.08975363416079173, 0.04432953882331787, 0.018060182483573946, 0.1520298405400053, 0.12402434359842537, 0.7241421352037095, 0.9950225893217963, 0.8094859627247598, 0.18867717928171093, 0.9936143782130723, 0.9988556073309061, 0.37745946707289874, 0.6176609461192888, 0.9985950718662759, 0.9985162258999939, 0.9942941375384984, 0.9977972617650007, 0.9984903972294721, 0.9933209503046646, 0.9992764192562281, 0.9983126377962929, 0.504343191981341, 0.49708645540607, 0.9983328475138944, 0.9951722599410752, 0.46505222541717606, 0.16827547630226763, 0.36714649375040215, 0.9979174571022565, 0.9993631186378198, 0.9977792072530753, 0.122270454004142, 0.8751990391875428, 0.4079339267708531, 0.5903043881507639, 0.9997937659033912, 0.9988187642962649, 0.9934160789706391, 0.9984407750694844, 0.992864572084204, 0.9935610141976342, 0.6276616763096291, 0.16415766918867222, 0.15643260240332296, 0.03283153383773445, 0.019312666963373203, 0.9985611404886343, 0.9972900570592719, 0.9998986361390767, 0.9963216006072207, 0.9995373715813766, 0.9992597818958491, 0.3391181877836364, 0.36118778413146035, 0.10658000187485715, 0.06890020323223088, 0.10658000187485715, 0.01722505080805772, 0.3160693987195941, 0.6827099012343233, 0.9990245228991722, 0.9968865590402036, 0.99133183135781, 0.9988850349216598, 0.999623272617277, 0.9967256024526547, 0.9937134369248827, 0.9943045054322593, 0.7771779227645118, 0.22195143899899666, 0.9976873171069545, 0.3782638480916277, 0.6210301983593888, 1.0000465485033219, 0.913609573917183, 0.08520031894493099, 0.9986253156105166, 0.9994705687347337, 0.9924587713761281, 0.9949597682429738, 0.9996280051727499, 0.8215633682654208, 0.17800539645750782, 0.9889143832657571, 1.0000155873312493, 0.306605980440795, 0.6929920884452663, 0.9985023062514602, 0.1625245652455515, 0.836540448418149, 0.0008644923683274016, 0.967174577886307, 0.03232202959517221, 0.9994360630324531, 0.9999043420594019, 0.9969182321583343, 0.9995684310793151, 0.7873700512570458, 0.20826587183524792, 0.003847868301805966, 0.22234875024393633, 0.7763363144110319, 0.9994252927408711, 0.45095604917355564, 0.3090498283910872, 0.1502706118448497, 0.0011537091120525887, 0.039226109809788016, 0.04355251897998522, 0.00562433192125637, 0.061673804011957746, 0.5425010538088876, 0.12220550054221258, 0.1610371549201119, 0.11192653320688628, 0.5583593497713957, 0.441458360287515, 0.5907914539442682, 0.3543337035603616, 0.047291550076781326, 0.0007058440309967362, 0.0063525962789706255, 0.0019848119302707753, 0.42563189171362176, 0.5722874398947402, 0.09048468313635152, 0.4169193359757901, 0.49259374586336657, 0.45987610052726846, 0.34192632287332836, 0.02760696966798462, 0.03144793936092161, 0.09802474737182945, 0.04105036359326409, 0.4511319885465267, 0.5455549628934742, 0.3549095583702147, 0.6442973521182359, 0.6301569035968632, 0.13291150572142277, 0.006775880683837239, 0.22985872165940172, 0.9970146093690843, 0.9992816500808709, 0.9968224076187159, 1.0000249514276585, 0.6534699048256573, 0.04343304503372949, 0.07962724922850406, 0.14280258745938332, 0.08094340210831405, 0.9970183361174317, 0.9974964124149135, 0.9952472981645297, 0.614738048730019, 0.11545327439081082, 0.2369830369074538, 0.032407936671104795, 0.3966819397352404, 0.4194999274191259, 0.06669873322981919, 0.11760039806310224, 0.9967663784765556, 0.9976153009612391, 0.998978146823376, 1.0002086453976846, 0.9964430650730624, 0.4968919737082171, 0.28850770430094697, 0.061755216617656046, 0.08582391642761429, 0.02470208664706242, 0.04180353124887486, 0.9999744787991712, 0.9938715940849268, 0.9966863013937536, 0.9913437888872719, 0.8053901101661981, 0.19449453227676422, 0.9981149480797462, 0.9966163983182335, 0.27460128766387615, 0.15594641027825065, 0.5695434114510024, 0.6586301971665186, 0.2218543822034589, 0.004333093402411306, 0.05459697687038246, 0.05979668895327603, 1.0001108399358711, 0.4967644895156968, 0.08569086393598675, 0.16976491911846434, 0.06548075451712196, 0.1014547492827013, 0.0800320332987046, 0.000404202188377296, 0.9983080557127901, 0.33696328980922224, 0.29151242746286204, 0.3714432543478403, 0.9993386591936286, 0.99674627727785, 0.5032073934329563, 0.18213652972061148, 0.17477251908500724, 0.004909340423736159, 0.0093277468050987, 0.12567911484764566, 0.27520576071747954, 0.3944819533480853, 0.12187247339209138, 0.03482070668345468, 0.08109559319699314, 0.07483397488988068, 0.015577684568913936, 0.0010690567841411525, 0.0010690567841411525, 0.6001240827381557, 0.3987310910084592, 0.3545072399506244, 0.1886484955451537, 0.45579502279365997, 0.6182274942501365, 0.2224703933980602, 0.108089728411911, 0.026879456271745063, 0.004003323274515223, 0.020588519697506857, 0.5592091558593701, 0.2812301859409042, 0.15930958509947174, 0.9965955076576791, 0.9989422821690052, 0.23935492063034702, 0.4236781005063483, 0.30499518972287987, 0.026521320845467815, 0.004641231147956867, 0.9957706860925949, 0.7854435093271073, 0.21292143325132426], \"Term\": [\"able\", \"able\", \"about\", \"about\", \"about\", \"about\", \"about\", \"across\", \"add\", \"added\", \"adding\", \"admit\", \"after\", \"after\", \"after\", \"after\", \"aftertaste\", \"agree\", \"allergy\", \"almond\", \"along\", \"also\", \"also\", \"also\", \"also\", \"also\", \"also\", \"also\", \"alternative\", \"always\", \"amazing\", \"amazon\", \"amazon\", \"amazoncom\", \"anyone\", \"anywhere\", \"apple\", \"area\", \"area\", \"arent\", \"aroma\", \"arrived\", \"arrived\", \"artificial\", \"baby\", \"bag\", \"bag\", \"baked\", \"ball\", \"bar\", \"bean\", \"beat\", \"beautiful\", \"because\", \"because\", \"because\", \"because\", \"because\", \"become\", \"beef\", \"been\", \"been\", \"been\", \"been\", \"before\", \"before\", \"before\", \"before\", \"before\", \"before\", \"being\", \"being\", \"berry\", \"best\", \"best\", \"best\", \"best\", \"better\", \"better\", \"beverage\", \"birthday\", \"bit\", \"black\", \"black\", \"blend\", \"blue\", \"body\", \"bold\", \"bone\", \"bought\", \"bought\", \"bought\", \"bought\", \"bought\", \"bowl\", \"bread\", \"break\", \"breakfast\", \"brew\", \"brewing\", \"bulk\", \"butter\", \"buying\", \"buying\", \"buying\", \"buying\", \"caffeine\", \"cake\", \"call\", \"calm\", \"calorie\", \"calorie\", \"candy\", \"candy\", \"canned\", \"care\", \"carry\", \"cat\", \"cereal\", \"cheaper\", \"check\", \"cheese\", \"cherry\", \"chew\", \"chewy\", \"chicken\", \"child\", \"chip\", \"chocolate\", \"chocolate\", \"choose\", \"cinnamon\", \"coat\", \"cocoa\", \"coconut\", \"coffee\", \"combination\", \"come\", \"come\", \"coming\", \"company\", \"company\", \"compared\", \"consistency\", \"container\", \"convenience\", \"convenient\", \"cook\", \"cook\", \"cookie\", \"cooking\", \"cooky\", \"corn\", \"cost\", \"count\", \"cracker\", \"crazy\", \"cream\", \"cream\", \"creamer\", \"creamy\", \"crunch\", \"crunchy\", \"cup\", \"cup\", \"customer\", \"cytomax\", \"dairy\", \"dark\", \"daughter\", \"day\", \"day\", \"day\", \"deal\", \"deal\", \"decaf\", \"decided\", \"decided\", \"definitely\", \"definitely\", \"delicious\", \"delivered\", \"delivery\", \"diet\", \"difference\", \"difficult\", \"dinner\", \"discovered\", \"dog\", \"dont\", \"dont\", \"dont\", \"dont\", \"down\", \"down\", \"drank\", \"dried\", \"drink\", \"drink\", \"drinker\", \"drinking\", \"drinking\", \"during\", \"each\", \"easily\", \"easy\", \"easy\", \"easy\", \"eaten\", \"eating\", \"eating\", \"eating\", \"eats\", \"effect\", \"egg\", \"else\", \"energy\", \"enjoy\", \"enjoy\", \"enjoy\", \"enjoy\", \"enjoys\", \"equal\", \"espresso\", \"even\", \"even\", \"even\", \"even\", \"even\", \"every\", \"every\", \"every\", \"every\", \"every\", \"everyday\", \"exactly\", \"excellent\", \"excellent\", \"expensive\", \"expensive\", \"extremely\", \"fair\", \"fast\", \"favorite\", \"favorite\", \"feed\", \"feel\", \"feel\", \"feel\", \"feel\", \"feeling\", \"fiber\", \"fiber\", \"filling\", \"finally\", \"find\", \"find\", \"find\", \"find\", \"first\", \"first\", \"first\", \"first\", \"flavor\", \"flavor\", \"flavor\", \"flavored\", \"flour\", \"food\", \"formula\", \"found\", \"found\", \"found\", \"found\", \"free\", \"free\", \"free\", \"free\", \"french\", \"fresh\", \"fresh\", \"friend\", \"friend\", \"from\", \"from\", \"from\", \"from\", \"from\", \"from\", \"fruit\", \"full\", \"full\", \"future\", \"get\", \"get\", \"gift\", \"gluten\", \"going\", \"going\", \"going\", \"going\", \"good\", \"good\", \"good\", \"good\", \"gotten\", \"grain\", \"gram\", \"great\", \"great\", \"great\", \"great\", \"great\", \"great\", \"green\", \"grocery\", \"grocery\", \"guess\", \"hair\", \"have\", \"have\", \"have\", \"have\", \"have\", \"have\", \"having\", \"having\", \"health\", \"healthier\", \"healthy\", \"here\", \"here\", \"here\", \"here\", \"here\", \"high\", \"high\", \"higher\", \"highly\", \"hint\", \"hold\", \"home\", \"homemade\", \"honey\", \"hour\", \"house\", \"house\", \"husband\", \"husband\", \"husband\", \"iced\", \"including\", \"individual\", \"ingredient\", \"ingredient\", \"ingredient\", \"inside\", \"instant\", \"issue\", \"item\", \"item\", \"item\", \"jerky\", \"juice\", \"just\", \"just\", \"just\", \"just\", \"just\", \"kcup\", \"keep\", \"keep\", \"keep\", \"keurig\", \"kid\", \"kind\", \"kind\", \"label\", \"le\", \"le\", \"le\", \"leaf\", \"lemon\", \"licorice\", \"like\", \"like\", \"like\", \"like\", \"like\", \"like\", \"lime\", \"liquid\", \"liquid\", \"little\", \"little\", \"little\", \"little\", \"little\", \"live\", \"local\", \"locally\", \"long\", \"long\", \"long\", \"longer\", \"looking\", \"looking\", \"looking\", \"love\", \"love\", \"love\", \"love\", \"lower\", \"lunch\", \"machine\", \"make\", \"make\", \"make\", \"make\", \"make\", \"making\", \"making\", \"making\", \"mango\", \"meat\", \"medium\", \"mild\", \"milk\", \"milk\", \"milk\", \"mine\", \"mint\", \"mixed\", \"month\", \"month\", \"month\", \"month\", \"more\", \"more\", \"more\", \"more\", \"morning\", \"mother\", \"mountain\", \"much\", \"much\", \"much\", \"much\", \"mustard\", \"need\", \"need\", \"needed\", \"needed\", \"nice\", \"nice\", \"night\", \"noodle\", \"note\", \"notice\", \"nut\", \"nutrition\", \"oatmeal\", \"offer\", \"olive\", \"online\", \"only\", \"only\", \"only\", \"only\", \"only\", \"orange\", \"order\", \"order\", \"order\", \"ordered\", \"ordered\", \"ordered\", \"ordering\", \"ordering\", \"organic\", \"organic\", \"organic\", \"other\", \"other\", \"other\", \"other\", \"other\", \"outside\", \"over\", \"over\", \"over\", \"pack\", \"pack\", \"pack\", \"pack\", \"party\", \"pasta\", \"peanut\", \"pepper\", \"peppermint\", \"perfect\", \"perfect\", \"piece\", \"piece\", \"piece\", \"pill\", \"pizza\", \"plain\", \"plastic\", \"pocket\", \"popcorn\", \"potato\", \"pouch\", \"pound\", \"pour\", \"powder\", \"present\", \"pressure\", \"pretzel\", \"price\", \"price\", \"pricey\", \"prime\", \"problem\", \"problem\", \"product\", \"product\", \"product\", \"product\", \"product\", \"protein\", \"puppy\", \"purchase\", \"purchase\", \"purchase\", \"purchased\", \"purchased\", \"purchased\", \"purchased\", \"quality\", \"quality\", \"quality\", \"quality\", \"quite\", \"quite\", \"quite\", \"ready\", \"real\", \"real\", \"really\", \"really\", \"really\", \"really\", \"really\", \"received\", \"received\", \"received\", \"recently\", \"recommended\", \"recommended\", \"refreshing\", \"rice\", \"rich\", \"rich\", \"roast\", \"roll\", \"room\", \"salad\", \"salt\", \"sandwich\", \"sauce\", \"seem\", \"seems\", \"seems\", \"sent\", \"serve\", \"serving\", \"serving\", \"serving\", \"several\", \"shape\", \"shelf\", \"shipped\", \"shipped\", \"shipping\", \"shipping\", \"shot\", \"side\", \"simple\", \"size\", \"skin\", \"slice\", \"small\", \"small\", \"small\", \"small\", \"small\", \"smaller\", \"smooth\", \"snack\", \"soda\", \"soft\", \"sold\", \"some\", \"some\", \"some\", \"some\", \"some\", \"some\", \"sometimes\", \"sometimes\", \"soup\", \"spice\", \"staple\", \"star\", \"starbucks\", \"stash\", \"stock\", \"stomach\", \"store\", \"store\", \"strawberry\", \"strong\", \"strong\", \"stronger\", \"stuff\", \"stuff\", \"subscribe\", \"sugar\", \"summer\", \"supermarket\", \"surprised\", \"sweet\", \"sweet\", \"sweetened\", \"syrup\", \"take\", \"take\", \"taking\", \"taste\", \"taste\", \"taste\", \"tasting\", \"tasting\", \"tasty\", \"tea\", \"teeth\", \"texture\", \"than\", \"than\", \"than\", \"thank\", \"thank\", \"thanks\", \"that\", \"that\", \"that\", \"that\", \"that\", \"that\", \"that\", \"their\", \"their\", \"their\", \"their\", \"their\", \"them\", \"them\", \"there\", \"there\", \"there\", \"there\", \"there\", \"these\", \"these\", \"these\", \"they\", \"they\", \"they\", \"this\", \"this\", \"this\", \"this\", \"this\", \"this\", \"three\", \"three\", \"through\", \"through\", \"time\", \"time\", \"time\", \"time\", \"tomato\", \"training\", \"travel\", \"treat\", \"tried\", \"tried\", \"tried\", \"tried\", \"tried\", \"truly\", \"tuna\", \"turn\", \"used\", \"used\", \"used\", \"used\", \"using\", \"using\", \"using\", \"using\", \"value\", \"vanilla\", \"various\", \"vegetable\", \"version\", \"very\", \"very\", \"very\", \"very\", \"very\", \"very\", \"vinegar\", \"vitamin\", \"walmart\", \"warm\", \"water\", \"water\", \"weight\", \"wellness\", \"were\", \"were\", \"were\", \"what\", \"what\", \"what\", \"what\", \"what\", \"wheat\", \"when\", \"when\", \"when\", \"when\", \"when\", \"when\", \"when\", \"where\", \"while\", \"while\", \"while\", \"white\", \"wife\", \"will\", \"will\", \"will\", \"will\", \"will\", \"will\", \"with\", \"with\", \"with\", \"with\", \"with\", \"with\", \"with\", \"with\", \"with\", \"without\", \"without\", \"work\", \"work\", \"work\", \"would\", \"would\", \"would\", \"would\", \"would\", \"would\", \"year\", \"year\", \"year\", \"yogurt\", \"youll\", \"your\", \"your\", \"your\", \"your\", \"your\", \"yourself\", \"yummy\", \"yummy\"]}, \"R\": 30, \"lambda.step\": 0.01, \"plot.opts\": {\"xlab\": \"PC1\", \"ylab\": \"PC2\"}, \"topic.order\": [2, 6, 7, 10, 8, 4, 9, 3, 1, 5]};\n",
              "\n",
              "function LDAvis_load_lib(url, callback){\n",
              "  var s = document.createElement('script');\n",
              "  s.src = url;\n",
              "  s.async = true;\n",
              "  s.onreadystatechange = s.onload = callback;\n",
              "  s.onerror = function(){console.warn(\"failed to load library \" + url);};\n",
              "  document.getElementsByTagName(\"head\")[0].appendChild(s);\n",
              "}\n",
              "\n",
              "if(typeof(LDAvis) !== \"undefined\"){\n",
              "   // already loaded: just create the visualization\n",
              "   !function(LDAvis){\n",
              "       new LDAvis(\"#\" + \"ldavis_el4501400179160382242170128201\", ldavis_el4501400179160382242170128201_data);\n",
              "   }(LDAvis);\n",
              "}else if(typeof define === \"function\" && define.amd){\n",
              "   // require.js is available: use it to load d3/LDAvis\n",
              "   require.config({paths: {d3: \"https://d3js.org/d3.v5\"}});\n",
              "   require([\"d3\"], function(d3){\n",
              "      window.d3 = d3;\n",
              "      LDAvis_load_lib(\"https://cdn.jsdelivr.net/gh/bmabey/pyLDAvis@3.3.1/pyLDAvis/js/ldavis.v3.0.0.js\", function(){\n",
              "        new LDAvis(\"#\" + \"ldavis_el4501400179160382242170128201\", ldavis_el4501400179160382242170128201_data);\n",
              "      });\n",
              "    });\n",
              "}else{\n",
              "    // require.js not available: dynamically load d3 & LDAvis\n",
              "    LDAvis_load_lib(\"https://d3js.org/d3.v5.js\", function(){\n",
              "         LDAvis_load_lib(\"https://cdn.jsdelivr.net/gh/bmabey/pyLDAvis@3.3.1/pyLDAvis/js/ldavis.v3.0.0.js\", function(){\n",
              "                 new LDAvis(\"#\" + \"ldavis_el4501400179160382242170128201\", ldavis_el4501400179160382242170128201_data);\n",
              "            })\n",
              "         });\n",
              "}\n",
              "</script>"
            ],
            "text/plain": [
              "<IPython.core.display.HTML object>"
            ]
          },
          "metadata": {},
          "execution_count": 16
        }
      ]
    },
    {
      "cell_type": "code",
      "metadata": {
        "id": "1KDZNH1Dt0Pd"
      },
      "source": [
        ""
      ],
      "execution_count": null,
      "outputs": []
    }
  ]
}