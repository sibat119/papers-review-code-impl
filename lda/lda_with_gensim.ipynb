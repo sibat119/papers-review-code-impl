{
  "nbformat": 4,
  "nbformat_minor": 0,
  "metadata": {
    "colab": {
      "name": "lda_with_gensim.ipynb",
      "provenance": [],
      "authorship_tag": "ABX9TyMqXicpAm8SwleN1sSzz/JO",
      "include_colab_link": true
    },
    "kernelspec": {
      "name": "python3",
      "display_name": "Python 3"
    },
    "language_info": {
      "name": "python"
    }
  },
  "cells": [
    {
      "cell_type": "markdown",
      "metadata": {
        "id": "view-in-github",
        "colab_type": "text"
      },
      "source": [
        "<a href=\"https://colab.research.google.com/github/sibat119/papers-review-code-impl/blob/main/lda/lda_with_gensim.ipynb\" target=\"_parent\"><img src=\"https://colab.research.google.com/assets/colab-badge.svg\" alt=\"Open In Colab\"/></a>"
      ]
    },
    {
      "cell_type": "code",
      "metadata": {
        "id": "gLBQKyCb0kLJ"
      },
      "source": [
        ""
      ],
      "execution_count": null,
      "outputs": []
    },
    {
      "cell_type": "markdown",
      "metadata": {
        "id": "rABruUU7K1KG"
      },
      "source": [
        "## **Importing the Required Libraries**\n"
      ]
    },
    {
      "cell_type": "code",
      "metadata": {
        "id": "o1l1E2TZLBwj",
        "outputId": "f386fb45-7de2-425e-810c-caeb99ee3d16",
        "colab": {
          "base_uri": "https://localhost:8080/",
          "height": 1000
        }
      },
      "source": [
        "!pip install pyLDAvis"
      ],
      "execution_count": 2,
      "outputs": [
        {
          "output_type": "stream",
          "name": "stdout",
          "text": [
            "Collecting pyLDAvis\n",
            "  Downloading pyLDAvis-3.3.1.tar.gz (1.7 MB)\n",
            "\u001b[?25l\r\u001b[K     |▏                               | 10 kB 23.5 MB/s eta 0:00:01\r\u001b[K     |▍                               | 20 kB 30.7 MB/s eta 0:00:01\r\u001b[K     |▋                               | 30 kB 35.9 MB/s eta 0:00:01\r\u001b[K     |▉                               | 40 kB 33.7 MB/s eta 0:00:01\r\u001b[K     |█                               | 51 kB 28.6 MB/s eta 0:00:01\r\u001b[K     |█▏                              | 61 kB 28.7 MB/s eta 0:00:01\r\u001b[K     |█▍                              | 71 kB 28.3 MB/s eta 0:00:01\r\u001b[K     |█▋                              | 81 kB 30.0 MB/s eta 0:00:01\r\u001b[K     |█▉                              | 92 kB 30.5 MB/s eta 0:00:01\r\u001b[K     |██                              | 102 kB 31.5 MB/s eta 0:00:01\r\u001b[K     |██▏                             | 112 kB 31.5 MB/s eta 0:00:01\r\u001b[K     |██▍                             | 122 kB 31.5 MB/s eta 0:00:01\r\u001b[K     |██▋                             | 133 kB 31.5 MB/s eta 0:00:01\r\u001b[K     |██▊                             | 143 kB 31.5 MB/s eta 0:00:01\r\u001b[K     |███                             | 153 kB 31.5 MB/s eta 0:00:01\r\u001b[K     |███▏                            | 163 kB 31.5 MB/s eta 0:00:01\r\u001b[K     |███▍                            | 174 kB 31.5 MB/s eta 0:00:01\r\u001b[K     |███▋                            | 184 kB 31.5 MB/s eta 0:00:01\r\u001b[K     |███▊                            | 194 kB 31.5 MB/s eta 0:00:01\r\u001b[K     |████                            | 204 kB 31.5 MB/s eta 0:00:01\r\u001b[K     |████▏                           | 215 kB 31.5 MB/s eta 0:00:01\r\u001b[K     |████▍                           | 225 kB 31.5 MB/s eta 0:00:01\r\u001b[K     |████▋                           | 235 kB 31.5 MB/s eta 0:00:01\r\u001b[K     |████▊                           | 245 kB 31.5 MB/s eta 0:00:01\r\u001b[K     |█████                           | 256 kB 31.5 MB/s eta 0:00:01\r\u001b[K     |█████▏                          | 266 kB 31.5 MB/s eta 0:00:01\r\u001b[K     |█████▍                          | 276 kB 31.5 MB/s eta 0:00:01\r\u001b[K     |█████▌                          | 286 kB 31.5 MB/s eta 0:00:01\r\u001b[K     |█████▊                          | 296 kB 31.5 MB/s eta 0:00:01\r\u001b[K     |██████                          | 307 kB 31.5 MB/s eta 0:00:01\r\u001b[K     |██████▏                         | 317 kB 31.5 MB/s eta 0:00:01\r\u001b[K     |██████▍                         | 327 kB 31.5 MB/s eta 0:00:01\r\u001b[K     |██████▌                         | 337 kB 31.5 MB/s eta 0:00:01\r\u001b[K     |██████▊                         | 348 kB 31.5 MB/s eta 0:00:01\r\u001b[K     |███████                         | 358 kB 31.5 MB/s eta 0:00:01\r\u001b[K     |███████▏                        | 368 kB 31.5 MB/s eta 0:00:01\r\u001b[K     |███████▎                        | 378 kB 31.5 MB/s eta 0:00:01\r\u001b[K     |███████▌                        | 389 kB 31.5 MB/s eta 0:00:01\r\u001b[K     |███████▊                        | 399 kB 31.5 MB/s eta 0:00:01\r\u001b[K     |████████                        | 409 kB 31.5 MB/s eta 0:00:01\r\u001b[K     |████████▏                       | 419 kB 31.5 MB/s eta 0:00:01\r\u001b[K     |████████▎                       | 430 kB 31.5 MB/s eta 0:00:01\r\u001b[K     |████████▌                       | 440 kB 31.5 MB/s eta 0:00:01\r\u001b[K     |████████▊                       | 450 kB 31.5 MB/s eta 0:00:01\r\u001b[K     |█████████                       | 460 kB 31.5 MB/s eta 0:00:01\r\u001b[K     |█████████▏                      | 471 kB 31.5 MB/s eta 0:00:01\r\u001b[K     |█████████▎                      | 481 kB 31.5 MB/s eta 0:00:01\r\u001b[K     |█████████▌                      | 491 kB 31.5 MB/s eta 0:00:01\r\u001b[K     |█████████▊                      | 501 kB 31.5 MB/s eta 0:00:01\r\u001b[K     |██████████                      | 512 kB 31.5 MB/s eta 0:00:01\r\u001b[K     |██████████                      | 522 kB 31.5 MB/s eta 0:00:01\r\u001b[K     |██████████▎                     | 532 kB 31.5 MB/s eta 0:00:01\r\u001b[K     |██████████▌                     | 542 kB 31.5 MB/s eta 0:00:01\r\u001b[K     |██████████▊                     | 552 kB 31.5 MB/s eta 0:00:01\r\u001b[K     |███████████                     | 563 kB 31.5 MB/s eta 0:00:01\r\u001b[K     |███████████                     | 573 kB 31.5 MB/s eta 0:00:01\r\u001b[K     |███████████▎                    | 583 kB 31.5 MB/s eta 0:00:01\r\u001b[K     |███████████▌                    | 593 kB 31.5 MB/s eta 0:00:01\r\u001b[K     |███████████▊                    | 604 kB 31.5 MB/s eta 0:00:01\r\u001b[K     |███████████▉                    | 614 kB 31.5 MB/s eta 0:00:01\r\u001b[K     |████████████                    | 624 kB 31.5 MB/s eta 0:00:01\r\u001b[K     |████████████▎                   | 634 kB 31.5 MB/s eta 0:00:01\r\u001b[K     |████████████▌                   | 645 kB 31.5 MB/s eta 0:00:01\r\u001b[K     |████████████▊                   | 655 kB 31.5 MB/s eta 0:00:01\r\u001b[K     |████████████▉                   | 665 kB 31.5 MB/s eta 0:00:01\r\u001b[K     |█████████████                   | 675 kB 31.5 MB/s eta 0:00:01\r\u001b[K     |█████████████▎                  | 686 kB 31.5 MB/s eta 0:00:01\r\u001b[K     |█████████████▌                  | 696 kB 31.5 MB/s eta 0:00:01\r\u001b[K     |█████████████▊                  | 706 kB 31.5 MB/s eta 0:00:01\r\u001b[K     |█████████████▉                  | 716 kB 31.5 MB/s eta 0:00:01\r\u001b[K     |██████████████                  | 727 kB 31.5 MB/s eta 0:00:01\r\u001b[K     |██████████████▎                 | 737 kB 31.5 MB/s eta 0:00:01\r\u001b[K     |██████████████▌                 | 747 kB 31.5 MB/s eta 0:00:01\r\u001b[K     |██████████████▋                 | 757 kB 31.5 MB/s eta 0:00:01\r\u001b[K     |██████████████▉                 | 768 kB 31.5 MB/s eta 0:00:01\r\u001b[K     |███████████████                 | 778 kB 31.5 MB/s eta 0:00:01\r\u001b[K     |███████████████▎                | 788 kB 31.5 MB/s eta 0:00:01\r\u001b[K     |███████████████▌                | 798 kB 31.5 MB/s eta 0:00:01\r\u001b[K     |███████████████▋                | 808 kB 31.5 MB/s eta 0:00:01\r\u001b[K     |███████████████▉                | 819 kB 31.5 MB/s eta 0:00:01\r\u001b[K     |████████████████                | 829 kB 31.5 MB/s eta 0:00:01\r\u001b[K     |████████████████▎               | 839 kB 31.5 MB/s eta 0:00:01\r\u001b[K     |████████████████▍               | 849 kB 31.5 MB/s eta 0:00:01\r\u001b[K     |████████████████▋               | 860 kB 31.5 MB/s eta 0:00:01\r\u001b[K     |████████████████▉               | 870 kB 31.5 MB/s eta 0:00:01\r\u001b[K     |█████████████████               | 880 kB 31.5 MB/s eta 0:00:01\r\u001b[K     |█████████████████▎              | 890 kB 31.5 MB/s eta 0:00:01\r\u001b[K     |█████████████████▍              | 901 kB 31.5 MB/s eta 0:00:01\r\u001b[K     |█████████████████▋              | 911 kB 31.5 MB/s eta 0:00:01\r\u001b[K     |█████████████████▉              | 921 kB 31.5 MB/s eta 0:00:01\r\u001b[K     |██████████████████              | 931 kB 31.5 MB/s eta 0:00:01\r\u001b[K     |██████████████████▎             | 942 kB 31.5 MB/s eta 0:00:01\r\u001b[K     |██████████████████▍             | 952 kB 31.5 MB/s eta 0:00:01\r\u001b[K     |██████████████████▋             | 962 kB 31.5 MB/s eta 0:00:01\r\u001b[K     |██████████████████▉             | 972 kB 31.5 MB/s eta 0:00:01\r\u001b[K     |███████████████████             | 983 kB 31.5 MB/s eta 0:00:01\r\u001b[K     |███████████████████▏            | 993 kB 31.5 MB/s eta 0:00:01\r\u001b[K     |███████████████████▍            | 1.0 MB 31.5 MB/s eta 0:00:01\r\u001b[K     |███████████████████▋            | 1.0 MB 31.5 MB/s eta 0:00:01\r\u001b[K     |███████████████████▉            | 1.0 MB 31.5 MB/s eta 0:00:01\r\u001b[K     |████████████████████            | 1.0 MB 31.5 MB/s eta 0:00:01\r\u001b[K     |████████████████████▏           | 1.0 MB 31.5 MB/s eta 0:00:01\r\u001b[K     |████████████████████▍           | 1.1 MB 31.5 MB/s eta 0:00:01\r\u001b[K     |████████████████████▋           | 1.1 MB 31.5 MB/s eta 0:00:01\r\u001b[K     |████████████████████▉           | 1.1 MB 31.5 MB/s eta 0:00:01\r\u001b[K     |█████████████████████           | 1.1 MB 31.5 MB/s eta 0:00:01\r\u001b[K     |█████████████████████▏          | 1.1 MB 31.5 MB/s eta 0:00:01\r\u001b[K     |█████████████████████▍          | 1.1 MB 31.5 MB/s eta 0:00:01\r\u001b[K     |█████████████████████▋          | 1.1 MB 31.5 MB/s eta 0:00:01\r\u001b[K     |█████████████████████▉          | 1.1 MB 31.5 MB/s eta 0:00:01\r\u001b[K     |██████████████████████          | 1.1 MB 31.5 MB/s eta 0:00:01\r\u001b[K     |██████████████████████▏         | 1.1 MB 31.5 MB/s eta 0:00:01\r\u001b[K     |██████████████████████▍         | 1.2 MB 31.5 MB/s eta 0:00:01\r\u001b[K     |██████████████████████▋         | 1.2 MB 31.5 MB/s eta 0:00:01\r\u001b[K     |██████████████████████▉         | 1.2 MB 31.5 MB/s eta 0:00:01\r\u001b[K     |███████████████████████         | 1.2 MB 31.5 MB/s eta 0:00:01\r\u001b[K     |███████████████████████▏        | 1.2 MB 31.5 MB/s eta 0:00:01\r\u001b[K     |███████████████████████▍        | 1.2 MB 31.5 MB/s eta 0:00:01\r\u001b[K     |███████████████████████▋        | 1.2 MB 31.5 MB/s eta 0:00:01\r\u001b[K     |███████████████████████▊        | 1.2 MB 31.5 MB/s eta 0:00:01\r\u001b[K     |████████████████████████        | 1.2 MB 31.5 MB/s eta 0:00:01\r\u001b[K     |████████████████████████▏       | 1.2 MB 31.5 MB/s eta 0:00:01\r\u001b[K     |████████████████████████▍       | 1.3 MB 31.5 MB/s eta 0:00:01\r\u001b[K     |████████████████████████▋       | 1.3 MB 31.5 MB/s eta 0:00:01\r\u001b[K     |████████████████████████▊       | 1.3 MB 31.5 MB/s eta 0:00:01\r\u001b[K     |█████████████████████████       | 1.3 MB 31.5 MB/s eta 0:00:01\r\u001b[K     |█████████████████████████▏      | 1.3 MB 31.5 MB/s eta 0:00:01\r\u001b[K     |█████████████████████████▍      | 1.3 MB 31.5 MB/s eta 0:00:01\r\u001b[K     |█████████████████████████▌      | 1.3 MB 31.5 MB/s eta 0:00:01\r\u001b[K     |█████████████████████████▊      | 1.3 MB 31.5 MB/s eta 0:00:01\r\u001b[K     |██████████████████████████      | 1.3 MB 31.5 MB/s eta 0:00:01\r\u001b[K     |██████████████████████████▏     | 1.4 MB 31.5 MB/s eta 0:00:01\r\u001b[K     |██████████████████████████▍     | 1.4 MB 31.5 MB/s eta 0:00:01\r\u001b[K     |██████████████████████████▌     | 1.4 MB 31.5 MB/s eta 0:00:01\r\u001b[K     |██████████████████████████▊     | 1.4 MB 31.5 MB/s eta 0:00:01\r\u001b[K     |███████████████████████████     | 1.4 MB 31.5 MB/s eta 0:00:01\r\u001b[K     |███████████████████████████▏    | 1.4 MB 31.5 MB/s eta 0:00:01\r\u001b[K     |███████████████████████████▍    | 1.4 MB 31.5 MB/s eta 0:00:01\r\u001b[K     |███████████████████████████▌    | 1.4 MB 31.5 MB/s eta 0:00:01\r\u001b[K     |███████████████████████████▊    | 1.4 MB 31.5 MB/s eta 0:00:01\r\u001b[K     |████████████████████████████    | 1.4 MB 31.5 MB/s eta 0:00:01\r\u001b[K     |████████████████████████████▏   | 1.5 MB 31.5 MB/s eta 0:00:01\r\u001b[K     |████████████████████████████▎   | 1.5 MB 31.5 MB/s eta 0:00:01\r\u001b[K     |████████████████████████████▌   | 1.5 MB 31.5 MB/s eta 0:00:01\r\u001b[K     |████████████████████████████▊   | 1.5 MB 31.5 MB/s eta 0:00:01\r\u001b[K     |█████████████████████████████   | 1.5 MB 31.5 MB/s eta 0:00:01\r\u001b[K     |█████████████████████████████▏  | 1.5 MB 31.5 MB/s eta 0:00:01\r\u001b[K     |█████████████████████████████▎  | 1.5 MB 31.5 MB/s eta 0:00:01\r\u001b[K     |█████████████████████████████▌  | 1.5 MB 31.5 MB/s eta 0:00:01\r\u001b[K     |█████████████████████████████▊  | 1.5 MB 31.5 MB/s eta 0:00:01\r\u001b[K     |██████████████████████████████  | 1.5 MB 31.5 MB/s eta 0:00:01\r\u001b[K     |██████████████████████████████▏ | 1.6 MB 31.5 MB/s eta 0:00:01\r\u001b[K     |██████████████████████████████▎ | 1.6 MB 31.5 MB/s eta 0:00:01\r\u001b[K     |██████████████████████████████▌ | 1.6 MB 31.5 MB/s eta 0:00:01\r\u001b[K     |██████████████████████████████▊ | 1.6 MB 31.5 MB/s eta 0:00:01\r\u001b[K     |███████████████████████████████ | 1.6 MB 31.5 MB/s eta 0:00:01\r\u001b[K     |███████████████████████████████ | 1.6 MB 31.5 MB/s eta 0:00:01\r\u001b[K     |███████████████████████████████▎| 1.6 MB 31.5 MB/s eta 0:00:01\r\u001b[K     |███████████████████████████████▌| 1.6 MB 31.5 MB/s eta 0:00:01\r\u001b[K     |███████████████████████████████▊| 1.6 MB 31.5 MB/s eta 0:00:01\r\u001b[K     |████████████████████████████████| 1.6 MB 31.5 MB/s eta 0:00:01\r\u001b[K     |████████████████████████████████| 1.7 MB 31.5 MB/s \n",
            "\u001b[?25h  Installing build dependencies ... \u001b[?25l\u001b[?25hdone\n",
            "  Getting requirements to build wheel ... \u001b[?25l\u001b[?25hdone\n",
            "  Installing backend dependencies ... \u001b[?25l\u001b[?25hdone\n",
            "    Preparing wheel metadata ... \u001b[?25l\u001b[?25hdone\n",
            "Collecting pandas>=1.2.0\n",
            "  Downloading pandas-1.3.2-cp37-cp37m-manylinux_2_17_x86_64.manylinux2014_x86_64.whl (11.3 MB)\n",
            "\u001b[K     |████████████████████████████████| 11.3 MB 65.7 MB/s \n",
            "\u001b[?25hRequirement already satisfied: joblib in /usr/local/lib/python3.7/dist-packages (from pyLDAvis) (1.0.1)\n",
            "Requirement already satisfied: future in /usr/local/lib/python3.7/dist-packages (from pyLDAvis) (0.16.0)\n",
            "Requirement already satisfied: scipy in /usr/local/lib/python3.7/dist-packages (from pyLDAvis) (1.4.1)\n",
            "Requirement already satisfied: sklearn in /usr/local/lib/python3.7/dist-packages (from pyLDAvis) (0.0)\n",
            "Collecting numpy>=1.20.0\n",
            "  Downloading numpy-1.21.2-cp37-cp37m-manylinux_2_12_x86_64.manylinux2010_x86_64.whl (15.7 MB)\n",
            "\u001b[K     |████████████████████████████████| 15.7 MB 180 kB/s \n",
            "\u001b[?25hCollecting funcy\n",
            "  Downloading funcy-1.16-py2.py3-none-any.whl (32 kB)\n",
            "Requirement already satisfied: jinja2 in /usr/local/lib/python3.7/dist-packages (from pyLDAvis) (2.11.3)\n",
            "Requirement already satisfied: numexpr in /usr/local/lib/python3.7/dist-packages (from pyLDAvis) (2.7.3)\n",
            "Requirement already satisfied: scikit-learn in /usr/local/lib/python3.7/dist-packages (from pyLDAvis) (0.22.2.post1)\n",
            "Requirement already satisfied: setuptools in /usr/local/lib/python3.7/dist-packages (from pyLDAvis) (57.4.0)\n",
            "Requirement already satisfied: gensim in /usr/local/lib/python3.7/dist-packages (from pyLDAvis) (3.6.0)\n",
            "Requirement already satisfied: python-dateutil>=2.7.3 in /usr/local/lib/python3.7/dist-packages (from pandas>=1.2.0->pyLDAvis) (2.8.2)\n",
            "Requirement already satisfied: pytz>=2017.3 in /usr/local/lib/python3.7/dist-packages (from pandas>=1.2.0->pyLDAvis) (2018.9)\n",
            "Requirement already satisfied: six>=1.5 in /usr/local/lib/python3.7/dist-packages (from python-dateutil>=2.7.3->pandas>=1.2.0->pyLDAvis) (1.15.0)\n",
            "Requirement already satisfied: smart-open>=1.2.1 in /usr/local/lib/python3.7/dist-packages (from gensim->pyLDAvis) (5.1.0)\n",
            "Requirement already satisfied: MarkupSafe>=0.23 in /usr/local/lib/python3.7/dist-packages (from jinja2->pyLDAvis) (2.0.1)\n",
            "Building wheels for collected packages: pyLDAvis\n",
            "  Building wheel for pyLDAvis (PEP 517) ... \u001b[?25l\u001b[?25hdone\n",
            "  Created wheel for pyLDAvis: filename=pyLDAvis-3.3.1-py2.py3-none-any.whl size=136897 sha256=1060b2c070ef8880d32db219700dfcff1547dfca4d91f73c9303221db70ceecb\n",
            "  Stored in directory: /root/.cache/pip/wheels/c9/21/f6/17bcf2667e8a68532ba2fbf6d5c72fdf4c7f7d9abfa4852d2f\n",
            "Successfully built pyLDAvis\n",
            "Installing collected packages: numpy, pandas, funcy, pyLDAvis\n",
            "  Attempting uninstall: numpy\n",
            "    Found existing installation: numpy 1.19.5\n",
            "    Uninstalling numpy-1.19.5:\n",
            "      Successfully uninstalled numpy-1.19.5\n",
            "  Attempting uninstall: pandas\n",
            "    Found existing installation: pandas 1.1.5\n",
            "    Uninstalling pandas-1.1.5:\n",
            "      Successfully uninstalled pandas-1.1.5\n",
            "\u001b[31mERROR: pip's dependency resolver does not currently take into account all the packages that are installed. This behaviour is the source of the following dependency conflicts.\n",
            "tensorflow 2.6.0 requires numpy~=1.19.2, but you have numpy 1.21.2 which is incompatible.\n",
            "google-colab 1.0.0 requires pandas~=1.1.0; python_version >= \"3.0\", but you have pandas 1.3.2 which is incompatible.\n",
            "datascience 0.10.6 requires folium==0.2.1, but you have folium 0.8.3 which is incompatible.\n",
            "albumentations 0.1.12 requires imgaug<0.2.7,>=0.2.5, but you have imgaug 0.2.9 which is incompatible.\u001b[0m\n",
            "Successfully installed funcy-1.16 numpy-1.21.2 pandas-1.3.2 pyLDAvis-3.3.1\n"
          ]
        },
        {
          "output_type": "display_data",
          "data": {
            "application/vnd.colab-display-data+json": {
              "pip_warning": {
                "packages": [
                  "numpy",
                  "pandas"
                ]
              }
            }
          },
          "metadata": {}
        }
      ]
    },
    {
      "cell_type": "code",
      "metadata": {
        "id": "USGx8hG7LTSe",
        "outputId": "bb374e9c-bfd7-41b0-90da-9d7894dd4ec1",
        "colab": {
          "base_uri": "https://localhost:8080/"
        }
      },
      "source": [
        "!pip install nltk\n",
        "import nltk\n",
        "nltk.download(\"stopwords\")"
      ],
      "execution_count": 1,
      "outputs": [
        {
          "output_type": "stream",
          "name": "stdout",
          "text": [
            "Requirement already satisfied: nltk in /usr/local/lib/python3.7/dist-packages (3.2.5)\n",
            "Requirement already satisfied: six in /usr/local/lib/python3.7/dist-packages (from nltk) (1.15.0)\n",
            "[nltk_data] Downloading package stopwords to /root/nltk_data...\n",
            "[nltk_data]   Unzipping corpora/stopwords.zip.\n"
          ]
        },
        {
          "output_type": "execute_result",
          "data": {
            "text/plain": [
              "True"
            ]
          },
          "metadata": {},
          "execution_count": 1
        }
      ]
    },
    {
      "cell_type": "code",
      "metadata": {
        "id": "pU0EgmSTK4z9"
      },
      "source": [
        "import numpy as np\n",
        "import pandas as pd\n",
        "import json\n",
        "import glob\n",
        "\n",
        "#Gensim\n",
        "import gensim\n",
        "import gensim.corpora as corpora\n",
        "from gensim.utils import simple_preprocess\n",
        "from gensim.models import CoherenceModel\n",
        "\n",
        "#spacy\n",
        "import spacy\n",
        "from nltk.corpus import stopwords\n",
        "\n",
        "#vis\n",
        "import pyLDAvis\n",
        "import pyLDAvis.gensim_models"
      ],
      "execution_count": 4,
      "outputs": []
    },
    {
      "cell_type": "markdown",
      "metadata": {
        "id": "ATruuaF8L53h"
      },
      "source": [
        "## **Load Data**"
      ]
    },
    {
      "cell_type": "code",
      "metadata": {
        "id": "sf8gMx7eK9PM"
      },
      "source": [
        "data = pd.read_csv(\"/content/Review.csv\")\n",
        "data.head()"
      ],
      "execution_count": null,
      "outputs": []
    },
    {
      "cell_type": "code",
      "metadata": {
        "id": "YU1p51dAMM-H"
      },
      "source": [
        ""
      ],
      "execution_count": null,
      "outputs": []
    }
  ]
}